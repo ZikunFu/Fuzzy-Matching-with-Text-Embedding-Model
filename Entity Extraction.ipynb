{
 "cells": [
  {
   "cell_type": "code",
   "execution_count": 1,
   "metadata": {},
   "outputs": [],
   "source": [
    "import pandas as pd\n",
    "from datasets import load_dataset\n",
    "from transformers import T5Tokenizer, T5ForConditionalGeneration, Trainer, TrainingArguments\n",
    "import torch\n",
    "from torch.utils.data import Dataset, DataLoader\n",
    "device = torch.device('cuda' if torch.cuda.is_available() else 'cpu')"
   ]
  },
  {
   "cell_type": "code",
   "execution_count": 2,
   "metadata": {},
   "outputs": [
    {
     "data": {
      "text/html": [
       "<div>\n",
       "<style scoped>\n",
       "    .dataframe tbody tr th:only-of-type {\n",
       "        vertical-align: middle;\n",
       "    }\n",
       "\n",
       "    .dataframe tbody tr th {\n",
       "        vertical-align: top;\n",
       "    }\n",
       "\n",
       "    .dataframe thead th {\n",
       "        text-align: right;\n",
       "    }\n",
       "</style>\n",
       "<table border=\"1\" class=\"dataframe\">\n",
       "  <thead>\n",
       "    <tr style=\"text-align: right;\">\n",
       "      <th></th>\n",
       "      <th>sentence_id</th>\n",
       "      <th>tokens</th>\n",
       "      <th>ner_tags</th>\n",
       "    </tr>\n",
       "  </thead>\n",
       "  <tbody>\n",
       "    <tr>\n",
       "      <th>13389</th>\n",
       "      <td>22048</td>\n",
       "      <td>[The, report, calls, on, President, Bush, and, Congress, to, urge, Chinese, officials, not, to, use, the, global, war, against, terrorism, as, a, pretext, to, suppress, minorities, ', rights, .]</td>\n",
       "      <td>[0, 0, 0, 0, 1, 2, 0, 3, 0, 0, 7, 0, 0, 0, 0, 0, 0, 0, 0, 0, 0, 0, 0, 0, 0, 0, 0, 0, 0]</td>\n",
       "    </tr>\n",
       "    <tr>\n",
       "      <th>3035</th>\n",
       "      <td>1273</td>\n",
       "      <td>[The, construction, on, the, Baku-T'bilisi-Ceyhan, oil, pipeline, ,, the, Baku-T'bilisi-Erzerum, gas, pipeline, ,, and, the, Kars-Akhalkalaki, Railroad, are, part, of, a, strategy, to, capitalize, on, Georgia, 's, strategic, location, between, Europe, and, Asia, and, develop, its, role, as, a, transit, point, for, gas, ,, oil, and, other, goods, .]</td>\n",
       "      <td>[0, 0, 0, 0, 0, 0, 0, 0, 0, 0, 0, 0, 0, 0, 0, 3, 4, 0, 0, 0, 0, 0, 0, 0, 0, 5, 0, 0, 0, 0, 5, 0, 5, 0, 0, 0, 0, 0, 0, 0, 0, 0, 0, 0, 0, 0, 0, 0, 0]</td>\n",
       "    </tr>\n",
       "    <tr>\n",
       "      <th>6013</th>\n",
       "      <td>1541</td>\n",
       "      <td>[The, pact, was, initially, approved, after, discussions, between, President, Bush, and, Peruvian, President, Alan, Garcia, ,, but, Democrats, in, Congress, forced, U.S., officials, to, reopen, negotiations, and, add, stronger, labor, and, environmental, provisions, .]</td>\n",
       "      <td>[0, 0, 0, 0, 0, 0, 0, 0, 1, 2, 0, 7, 1, 2, 2, 0, 0, 3, 0, 3, 0, 5, 0, 0, 0, 0, 0, 0, 0, 0, 0, 0, 0, 0]</td>\n",
       "    </tr>\n",
       "  </tbody>\n",
       "</table>\n",
       "</div>"
      ],
      "text/plain": [
       "      sentence_id  \\\n",
       "13389       22048   \n",
       "3035         1273   \n",
       "6013         1541   \n",
       "\n",
       "                                                                                                                                                                                                                                                                                                                                                               tokens  \\\n",
       "13389                                                                                                                                                              [The, report, calls, on, President, Bush, and, Congress, to, urge, Chinese, officials, not, to, use, the, global, war, against, terrorism, as, a, pretext, to, suppress, minorities, ', rights, .]   \n",
       "3035   [The, construction, on, the, Baku-T'bilisi-Ceyhan, oil, pipeline, ,, the, Baku-T'bilisi-Erzerum, gas, pipeline, ,, and, the, Kars-Akhalkalaki, Railroad, are, part, of, a, strategy, to, capitalize, on, Georgia, 's, strategic, location, between, Europe, and, Asia, and, develop, its, role, as, a, transit, point, for, gas, ,, oil, and, other, goods, .]   \n",
       "6013                                                                                    [The, pact, was, initially, approved, after, discussions, between, President, Bush, and, Peruvian, President, Alan, Garcia, ,, but, Democrats, in, Congress, forced, U.S., officials, to, reopen, negotiations, and, add, stronger, labor, and, environmental, provisions, .]   \n",
       "\n",
       "                                                                                                                                                  ner_tags  \n",
       "13389                                                              [0, 0, 0, 0, 1, 2, 0, 3, 0, 0, 7, 0, 0, 0, 0, 0, 0, 0, 0, 0, 0, 0, 0, 0, 0, 0, 0, 0, 0]  \n",
       "3035   [0, 0, 0, 0, 0, 0, 0, 0, 0, 0, 0, 0, 0, 0, 0, 3, 4, 0, 0, 0, 0, 0, 0, 0, 0, 5, 0, 0, 0, 0, 5, 0, 5, 0, 0, 0, 0, 0, 0, 0, 0, 0, 0, 0, 0, 0, 0, 0, 0]  \n",
       "6013                                                [0, 0, 0, 0, 0, 0, 0, 0, 1, 2, 0, 7, 1, 2, 2, 0, 0, 3, 0, 3, 0, 5, 0, 0, 0, 0, 0, 0, 0, 0, 0, 0, 0, 0]  "
      ]
     },
     "execution_count": 2,
     "metadata": {},
     "output_type": "execute_result"
    }
   ],
   "source": [
    "# Load the dataset\n",
    "dataset = load_dataset(\"rjac/kaggle-entity-annotated-corpus-ner-dataset\")\n",
    "\n",
    "pd.set_option('display.max_colwidth', None)\n",
    "df = pd.DataFrame(dataset['train'])\n",
    "df = df.sample(n=2000, random_state=42)\n",
    "df.head(3)"
   ]
  },
  {
   "cell_type": "code",
   "execution_count": 3,
   "metadata": {},
   "outputs": [
    {
     "data": {
      "text/html": [
       "<div>\n",
       "<style scoped>\n",
       "    .dataframe tbody tr th:only-of-type {\n",
       "        vertical-align: middle;\n",
       "    }\n",
       "\n",
       "    .dataframe tbody tr th {\n",
       "        vertical-align: top;\n",
       "    }\n",
       "\n",
       "    .dataframe thead th {\n",
       "        text-align: right;\n",
       "    }\n",
       "</style>\n",
       "<table border=\"1\" class=\"dataframe\">\n",
       "  <thead>\n",
       "    <tr style=\"text-align: right;\">\n",
       "      <th></th>\n",
       "      <th>input</th>\n",
       "      <th>output</th>\n",
       "    </tr>\n",
       "  </thead>\n",
       "  <tbody>\n",
       "    <tr>\n",
       "      <th>13389</th>\n",
       "      <td>Entity Extraction: The report calls on President Bush and Congress to urge Chinese officials not to use the global war against terrorism as a pretext to suppress minorities ' rights .</td>\n",
       "      <td>The report calls on &lt;ENT&gt; &lt;CONT&gt; and &lt;ENT&gt; to urge &lt;ENT&gt; officials not to use the global war against terrorism as a pretext to suppress minorities ' rights .</td>\n",
       "    </tr>\n",
       "  </tbody>\n",
       "</table>\n",
       "</div>"
      ],
      "text/plain": [
       "                                                                                                                                                                                         input  \\\n",
       "13389  Entity Extraction: The report calls on President Bush and Congress to urge Chinese officials not to use the global war against terrorism as a pretext to suppress minorities ' rights .   \n",
       "\n",
       "                                                                                                                                                              output  \n",
       "13389  The report calls on <ENT> <CONT> and <ENT> to urge <ENT> officials not to use the global war against terrorism as a pretext to suppress minorities ' rights .  "
      ]
     },
     "execution_count": 3,
     "metadata": {},
     "output_type": "execute_result"
    }
   ],
   "source": [
    "def process_data(row):\n",
    "    sentence = \" \".join(row['tokens'])\n",
    "    ner_tags = row['ner_tags']\n",
    "    \n",
    "    output_tokens = row['tokens'].copy()\n",
    "    for i, tag in enumerate(ner_tags):\n",
    "        if tag != 0:\n",
    "            if i == 0 or ner_tags[i-1] == 0:\n",
    "                output_tokens[i] = \"<ENT>\"\n",
    "            else:\n",
    "                output_tokens[i] = \"<CONT>\"\n",
    "    \n",
    "    output_sentence = \" \".join(output_tokens)\n",
    "    input_sentence = f\"Entity Extraction: {sentence}\"\n",
    "    return pd.Series([input_sentence, output_sentence], index=['input', 'output'])\n",
    "\n",
    "train_data = df.apply(process_data, axis=1)\n",
    "pd.set_option('display.max_colwidth', None)\n",
    "train_data.head(1)"
   ]
  },
  {
   "cell_type": "code",
   "execution_count": 4,
   "metadata": {},
   "outputs": [],
   "source": [
    "from sklearn.model_selection import train_test_split\n",
    "\n",
    "# Split the dataset into training, testing, and validation sets\n",
    "train_df, temp_df = train_test_split(train_data, test_size=0.3, random_state=42)\n",
    "val_data, test_data = train_test_split(temp_df, test_size=0.5, random_state=42)"
   ]
  },
  {
   "cell_type": "code",
   "execution_count": 5,
   "metadata": {},
   "outputs": [
    {
     "name": "stderr",
     "output_type": "stream",
     "text": [
      "You are using the default legacy behaviour of the <class 'transformers.models.t5.tokenization_t5.T5Tokenizer'>. This is expected, and simply means that the `legacy` (previous) behavior will be used so nothing changes for you. If you want to use the new behaviour, set `legacy=False`. This should only be set if you understand what it means, and thoroughly read the reason why this was added as explained in https://github.com/huggingface/transformers/pull/24565\n",
      "Special tokens have been added in the vocabulary, make sure the associated word embeddings are fine-tuned or trained.\n"
     ]
    },
    {
     "data": {
      "application/vnd.jupyter.widget-view+json": {
       "model_id": "2caed1b027ad48e2ba5823e90f6ebff0",
       "version_major": 2,
       "version_minor": 0
      },
      "text/plain": [
       "Map:   0%|          | 0/2000 [00:00<?, ? examples/s]"
      ]
     },
     "metadata": {},
     "output_type": "display_data"
    },
    {
     "data": {
      "application/vnd.jupyter.widget-view+json": {
       "model_id": "b9f0e214980f4fad8935c5b82ff2a955",
       "version_major": 2,
       "version_minor": 0
      },
      "text/plain": [
       "Map:   0%|          | 0/300 [00:00<?, ? examples/s]"
      ]
     },
     "metadata": {},
     "output_type": "display_data"
    },
    {
     "data": {
      "application/vnd.jupyter.widget-view+json": {
       "model_id": "32e94f96d97840678b52713ea8be98e0",
       "version_major": 2,
       "version_minor": 0
      },
      "text/plain": [
       "Map:   0%|          | 0/300 [00:00<?, ? examples/s]"
      ]
     },
     "metadata": {},
     "output_type": "display_data"
    }
   ],
   "source": [
    "from transformers import T5Tokenizer\n",
    "from datasets import Dataset\n",
    "tokenizer = T5Tokenizer.from_pretrained('t5-base')\n",
    "\n",
    "train_dataset = Dataset.from_pandas(train_data)\n",
    "test_dataset = Dataset.from_pandas(test_data)\n",
    "val_dataset = Dataset.from_pandas(val_data)\n",
    "\n",
    "def encoder(data):\n",
    "    inputs = data[\"input\"]\n",
    "    targets = data[\"output\"]\n",
    "    model_inputs = tokenizer(inputs, max_length=128, padding=\"max_length\", truncation=True)\n",
    "    labels = tokenizer(text_target=targets, max_length=128, padding=\"max_length\", truncation=True)\n",
    "    model_inputs[\"labels\"] = labels[\"input_ids\"]\n",
    "    return model_inputs\n",
    "\n",
    "# Apply the tokenization\n",
    "train_encoded = train_dataset.map(encoder, batched=True)\n",
    "test_encoded = test_dataset.map(encoder, batched=True)\n",
    "val_encoded = val_dataset.map(encoder, batched=True)"
   ]
  },
  {
   "cell_type": "code",
   "execution_count": 6,
   "metadata": {},
   "outputs": [
    {
     "data": {
      "application/vnd.jupyter.widget-view+json": {
       "model_id": "3da248faffcf48ceb245fa946ad70f69",
       "version_major": 2,
       "version_minor": 0
      },
      "text/plain": [
       "  0%|          | 0/1250 [00:00<?, ?it/s]"
      ]
     },
     "metadata": {},
     "output_type": "display_data"
    },
    {
     "name": "stdout",
     "output_type": "stream",
     "text": [
      "{'loss': 11.0734, 'grad_norm': 37.30490493774414, 'learning_rate': 1.0000000000000002e-06, 'epoch': 0.04}\n"
     ]
    },
    {
     "data": {
      "application/vnd.jupyter.widget-view+json": {
       "model_id": "05d77f22c7e8477993bd4821a738083a",
       "version_major": 2,
       "version_minor": 0
      },
      "text/plain": [
       "  0%|          | 0/38 [00:00<?, ?it/s]"
      ]
     },
     "metadata": {},
     "output_type": "display_data"
    },
    {
     "name": "stdout",
     "output_type": "stream",
     "text": [
      "{'eval_loss': 11.52392864227295, 'eval_runtime': 1.3324, 'eval_samples_per_second': 225.161, 'eval_steps_per_second': 28.52, 'epoch': 0.04}\n",
      "{'loss': 10.476, 'grad_norm': 46.46704864501953, 'learning_rate': 2.0000000000000003e-06, 'epoch': 0.08}\n"
     ]
    },
    {
     "data": {
      "application/vnd.jupyter.widget-view+json": {
       "model_id": "82dc95097caa4320800cd6a362062557",
       "version_major": 2,
       "version_minor": 0
      },
      "text/plain": [
       "  0%|          | 0/38 [00:00<?, ?it/s]"
      ]
     },
     "metadata": {},
     "output_type": "display_data"
    },
    {
     "name": "stdout",
     "output_type": "stream",
     "text": [
      "{'eval_loss': 11.112187385559082, 'eval_runtime': 1.3295, 'eval_samples_per_second': 225.654, 'eval_steps_per_second': 28.583, 'epoch': 0.08}\n",
      "{'loss': 10.1253, 'grad_norm': 40.07225799560547, 'learning_rate': 3e-06, 'epoch': 0.12}\n"
     ]
    },
    {
     "data": {
      "application/vnd.jupyter.widget-view+json": {
       "model_id": "2b6748c1ea7949f3bd0fcc667b7f3bd4",
       "version_major": 2,
       "version_minor": 0
      },
      "text/plain": [
       "  0%|          | 0/38 [00:00<?, ?it/s]"
      ]
     },
     "metadata": {},
     "output_type": "display_data"
    },
    {
     "name": "stdout",
     "output_type": "stream",
     "text": [
      "{'eval_loss': 10.46669864654541, 'eval_runtime': 1.3381, 'eval_samples_per_second': 224.205, 'eval_steps_per_second': 28.399, 'epoch': 0.12}\n",
      "{'loss': 9.4181, 'grad_norm': 32.94902420043945, 'learning_rate': 4.000000000000001e-06, 'epoch': 0.16}\n"
     ]
    },
    {
     "data": {
      "application/vnd.jupyter.widget-view+json": {
       "model_id": "221cb04e23744637954f0d051c2c2509",
       "version_major": 2,
       "version_minor": 0
      },
      "text/plain": [
       "  0%|          | 0/38 [00:00<?, ?it/s]"
      ]
     },
     "metadata": {},
     "output_type": "display_data"
    },
    {
     "name": "stdout",
     "output_type": "stream",
     "text": [
      "{'eval_loss': 9.65477180480957, 'eval_runtime': 1.3385, 'eval_samples_per_second': 224.126, 'eval_steps_per_second': 28.389, 'epoch': 0.16}\n",
      "{'loss': 9.2374, 'grad_norm': 32.00311279296875, 'learning_rate': 5e-06, 'epoch': 0.2}\n"
     ]
    },
    {
     "data": {
      "application/vnd.jupyter.widget-view+json": {
       "model_id": "3dd72001045647279e694790f5ca18db",
       "version_major": 2,
       "version_minor": 0
      },
      "text/plain": [
       "  0%|          | 0/38 [00:00<?, ?it/s]"
      ]
     },
     "metadata": {},
     "output_type": "display_data"
    },
    {
     "name": "stdout",
     "output_type": "stream",
     "text": [
      "{'eval_loss': 8.68787956237793, 'eval_runtime': 1.4109, 'eval_samples_per_second': 212.635, 'eval_steps_per_second': 26.934, 'epoch': 0.2}\n",
      "{'loss': 8.4773, 'grad_norm': 31.251806259155273, 'learning_rate': 6e-06, 'epoch': 0.24}\n"
     ]
    },
    {
     "data": {
      "application/vnd.jupyter.widget-view+json": {
       "model_id": "667fd3ca551047dab5b2a0d8b03cbcfe",
       "version_major": 2,
       "version_minor": 0
      },
      "text/plain": [
       "  0%|          | 0/38 [00:00<?, ?it/s]"
      ]
     },
     "metadata": {},
     "output_type": "display_data"
    },
    {
     "name": "stdout",
     "output_type": "stream",
     "text": [
      "{'eval_loss': 7.5796613693237305, 'eval_runtime': 1.4076, 'eval_samples_per_second': 213.128, 'eval_steps_per_second': 26.996, 'epoch': 0.24}\n",
      "{'loss': 7.0657, 'grad_norm': 27.23091697692871, 'learning_rate': 7.000000000000001e-06, 'epoch': 0.28}\n"
     ]
    },
    {
     "data": {
      "application/vnd.jupyter.widget-view+json": {
       "model_id": "0ef802485cba40ac95f3f817cfe238e5",
       "version_major": 2,
       "version_minor": 0
      },
      "text/plain": [
       "  0%|          | 0/38 [00:00<?, ?it/s]"
      ]
     },
     "metadata": {},
     "output_type": "display_data"
    },
    {
     "name": "stdout",
     "output_type": "stream",
     "text": [
      "{'eval_loss': 6.358649253845215, 'eval_runtime': 1.6878, 'eval_samples_per_second': 177.742, 'eval_steps_per_second': 22.514, 'epoch': 0.28}\n",
      "{'loss': 6.12, 'grad_norm': 29.129714965820312, 'learning_rate': 8.000000000000001e-06, 'epoch': 0.32}\n"
     ]
    },
    {
     "data": {
      "application/vnd.jupyter.widget-view+json": {
       "model_id": "8d4db0221fd34a42aea3517ecdc7ed69",
       "version_major": 2,
       "version_minor": 0
      },
      "text/plain": [
       "  0%|          | 0/38 [00:00<?, ?it/s]"
      ]
     },
     "metadata": {},
     "output_type": "display_data"
    },
    {
     "name": "stdout",
     "output_type": "stream",
     "text": [
      "{'eval_loss': 5.036281108856201, 'eval_runtime': 1.7565, 'eval_samples_per_second': 170.79, 'eval_steps_per_second': 21.633, 'epoch': 0.32}\n",
      "{'loss': 5.0688, 'grad_norm': 21.42456817626953, 'learning_rate': 9e-06, 'epoch': 0.36}\n"
     ]
    },
    {
     "data": {
      "application/vnd.jupyter.widget-view+json": {
       "model_id": "f919c70b4af04624998c63fb5b2da0f9",
       "version_major": 2,
       "version_minor": 0
      },
      "text/plain": [
       "  0%|          | 0/38 [00:00<?, ?it/s]"
      ]
     },
     "metadata": {},
     "output_type": "display_data"
    },
    {
     "name": "stdout",
     "output_type": "stream",
     "text": [
      "{'eval_loss': 3.629814386367798, 'eval_runtime': 1.6376, 'eval_samples_per_second': 183.194, 'eval_steps_per_second': 23.205, 'epoch': 0.36}\n",
      "{'loss': 3.9457, 'grad_norm': 22.95743179321289, 'learning_rate': 1e-05, 'epoch': 0.4}\n"
     ]
    },
    {
     "data": {
      "application/vnd.jupyter.widget-view+json": {
       "model_id": "b97a2e0533b54a42ab1f2afc2584774d",
       "version_major": 2,
       "version_minor": 0
      },
      "text/plain": [
       "  0%|          | 0/38 [00:00<?, ?it/s]"
      ]
     },
     "metadata": {},
     "output_type": "display_data"
    },
    {
     "name": "stdout",
     "output_type": "stream",
     "text": [
      "{'eval_loss': 2.1798815727233887, 'eval_runtime': 1.6479, 'eval_samples_per_second': 182.05, 'eval_steps_per_second': 23.06, 'epoch': 0.4}\n",
      "{'loss': 2.7638, 'grad_norm': 26.820850372314453, 'learning_rate': 1.1000000000000001e-05, 'epoch': 0.44}\n"
     ]
    },
    {
     "data": {
      "application/vnd.jupyter.widget-view+json": {
       "model_id": "03572f1ba7284fff8d308f7c7e78e8ad",
       "version_major": 2,
       "version_minor": 0
      },
      "text/plain": [
       "  0%|          | 0/38 [00:00<?, ?it/s]"
      ]
     },
     "metadata": {},
     "output_type": "display_data"
    },
    {
     "name": "stdout",
     "output_type": "stream",
     "text": [
      "{'eval_loss': 1.0867317914962769, 'eval_runtime': 2.0146, 'eval_samples_per_second': 148.912, 'eval_steps_per_second': 18.862, 'epoch': 0.44}\n",
      "{'loss': 1.7392, 'grad_norm': 12.4657621383667, 'learning_rate': 1.2e-05, 'epoch': 0.48}\n"
     ]
    },
    {
     "data": {
      "application/vnd.jupyter.widget-view+json": {
       "model_id": "3ac7ed1a29274559ad2b5c7a3d5cc877",
       "version_major": 2,
       "version_minor": 0
      },
      "text/plain": [
       "  0%|          | 0/38 [00:00<?, ?it/s]"
      ]
     },
     "metadata": {},
     "output_type": "display_data"
    },
    {
     "name": "stdout",
     "output_type": "stream",
     "text": [
      "{'eval_loss': 0.6008166670799255, 'eval_runtime': 1.7885, 'eval_samples_per_second': 167.742, 'eval_steps_per_second': 21.247, 'epoch': 0.48}\n",
      "{'loss': 1.4542, 'grad_norm': 7.220598220825195, 'learning_rate': 1.3000000000000001e-05, 'epoch': 0.52}\n"
     ]
    },
    {
     "data": {
      "application/vnd.jupyter.widget-view+json": {
       "model_id": "865cc65fb50a4336a538659c4b4ee7a9",
       "version_major": 2,
       "version_minor": 0
      },
      "text/plain": [
       "  0%|          | 0/38 [00:00<?, ?it/s]"
      ]
     },
     "metadata": {},
     "output_type": "display_data"
    },
    {
     "name": "stdout",
     "output_type": "stream",
     "text": [
      "{'eval_loss': 0.41805389523506165, 'eval_runtime': 1.7215, 'eval_samples_per_second': 174.265, 'eval_steps_per_second': 22.074, 'epoch': 0.52}\n",
      "{'loss': 0.8918, 'grad_norm': 6.09201192855835, 'learning_rate': 1.4000000000000001e-05, 'epoch': 0.56}\n"
     ]
    },
    {
     "data": {
      "application/vnd.jupyter.widget-view+json": {
       "model_id": "0823b92ac9924a4b9f609121aae6dddf",
       "version_major": 2,
       "version_minor": 0
      },
      "text/plain": [
       "  0%|          | 0/38 [00:00<?, ?it/s]"
      ]
     },
     "metadata": {},
     "output_type": "display_data"
    },
    {
     "name": "stdout",
     "output_type": "stream",
     "text": [
      "{'eval_loss': 0.36001017689704895, 'eval_runtime': 1.7432, 'eval_samples_per_second': 172.1, 'eval_steps_per_second': 21.799, 'epoch': 0.56}\n",
      "{'loss': 0.6514, 'grad_norm': 2.089306116104126, 'learning_rate': 1.5e-05, 'epoch': 0.6}\n"
     ]
    },
    {
     "data": {
      "application/vnd.jupyter.widget-view+json": {
       "model_id": "0c7e3a5c0f9b4304ab0ae1e9788c37bf",
       "version_major": 2,
       "version_minor": 0
      },
      "text/plain": [
       "  0%|          | 0/38 [00:00<?, ?it/s]"
      ]
     },
     "metadata": {},
     "output_type": "display_data"
    },
    {
     "name": "stdout",
     "output_type": "stream",
     "text": [
      "{'eval_loss': 0.3177344501018524, 'eval_runtime': 1.6857, 'eval_samples_per_second': 177.965, 'eval_steps_per_second': 22.542, 'epoch': 0.6}\n",
      "{'loss': 0.4705, 'grad_norm': 3.1086816787719727, 'learning_rate': 1.6000000000000003e-05, 'epoch': 0.64}\n"
     ]
    },
    {
     "data": {
      "application/vnd.jupyter.widget-view+json": {
       "model_id": "5cd1ac1cd5e841d9abfb697e3c05874e",
       "version_major": 2,
       "version_minor": 0
      },
      "text/plain": [
       "  0%|          | 0/38 [00:00<?, ?it/s]"
      ]
     },
     "metadata": {},
     "output_type": "display_data"
    },
    {
     "name": "stdout",
     "output_type": "stream",
     "text": [
      "{'eval_loss': 0.2758188247680664, 'eval_runtime': 1.6831, 'eval_samples_per_second': 178.246, 'eval_steps_per_second': 22.578, 'epoch': 0.64}\n",
      "{'loss': 0.3617, 'grad_norm': 1.7799618244171143, 'learning_rate': 1.7000000000000003e-05, 'epoch': 0.68}\n"
     ]
    },
    {
     "data": {
      "application/vnd.jupyter.widget-view+json": {
       "model_id": "492207cf7a434a5fa3c054778de04944",
       "version_major": 2,
       "version_minor": 0
      },
      "text/plain": [
       "  0%|          | 0/38 [00:00<?, ?it/s]"
      ]
     },
     "metadata": {},
     "output_type": "display_data"
    },
    {
     "name": "stdout",
     "output_type": "stream",
     "text": [
      "{'eval_loss': 0.24247121810913086, 'eval_runtime': 1.6689, 'eval_samples_per_second': 179.761, 'eval_steps_per_second': 22.77, 'epoch': 0.68}\n",
      "{'loss': 0.2759, 'grad_norm': 2.0015690326690674, 'learning_rate': 1.8e-05, 'epoch': 0.72}\n"
     ]
    },
    {
     "data": {
      "application/vnd.jupyter.widget-view+json": {
       "model_id": "ae3197b25780423e9d29a8622cc70d18",
       "version_major": 2,
       "version_minor": 0
      },
      "text/plain": [
       "  0%|          | 0/38 [00:00<?, ?it/s]"
      ]
     },
     "metadata": {},
     "output_type": "display_data"
    },
    {
     "name": "stdout",
     "output_type": "stream",
     "text": [
      "{'eval_loss': 0.20664985477924347, 'eval_runtime': 1.49, 'eval_samples_per_second': 201.345, 'eval_steps_per_second': 25.504, 'epoch': 0.72}\n",
      "{'loss': 0.2414, 'grad_norm': 1.07077157497406, 'learning_rate': 1.9e-05, 'epoch': 0.76}\n"
     ]
    },
    {
     "data": {
      "application/vnd.jupyter.widget-view+json": {
       "model_id": "ffb55630e73844d6933c77e8499275fc",
       "version_major": 2,
       "version_minor": 0
      },
      "text/plain": [
       "  0%|          | 0/38 [00:00<?, ?it/s]"
      ]
     },
     "metadata": {},
     "output_type": "display_data"
    },
    {
     "name": "stdout",
     "output_type": "stream",
     "text": [
      "{'eval_loss': 0.17008961737155914, 'eval_runtime': 1.6671, 'eval_samples_per_second': 179.954, 'eval_steps_per_second': 22.794, 'epoch': 0.76}\n",
      "{'loss': 0.205, 'grad_norm': 1.1643494367599487, 'learning_rate': 2e-05, 'epoch': 0.8}\n"
     ]
    },
    {
     "data": {
      "application/vnd.jupyter.widget-view+json": {
       "model_id": "01999869dde54227a3c7ae4611a3230a",
       "version_major": 2,
       "version_minor": 0
      },
      "text/plain": [
       "  0%|          | 0/38 [00:00<?, ?it/s]"
      ]
     },
     "metadata": {},
     "output_type": "display_data"
    },
    {
     "name": "stdout",
     "output_type": "stream",
     "text": [
      "{'eval_loss': 0.13819143176078796, 'eval_runtime': 1.6138, 'eval_samples_per_second': 185.893, 'eval_steps_per_second': 23.546, 'epoch': 0.8}\n",
      "{'loss': 0.163, 'grad_norm': 0.9753833413124084, 'learning_rate': 2.1e-05, 'epoch': 0.84}\n"
     ]
    },
    {
     "data": {
      "application/vnd.jupyter.widget-view+json": {
       "model_id": "213e63728a7348999326f13e11b9e7e8",
       "version_major": 2,
       "version_minor": 0
      },
      "text/plain": [
       "  0%|          | 0/38 [00:00<?, ?it/s]"
      ]
     },
     "metadata": {},
     "output_type": "display_data"
    },
    {
     "name": "stdout",
     "output_type": "stream",
     "text": [
      "{'eval_loss': 0.0924573615193367, 'eval_runtime': 1.9259, 'eval_samples_per_second': 155.774, 'eval_steps_per_second': 19.731, 'epoch': 0.84}\n",
      "{'loss': 0.1475, 'grad_norm': 1.1909245252609253, 'learning_rate': 2.2000000000000003e-05, 'epoch': 0.88}\n"
     ]
    },
    {
     "data": {
      "application/vnd.jupyter.widget-view+json": {
       "model_id": "ab4a3b88c5974e488c50e0005cdcade5",
       "version_major": 2,
       "version_minor": 0
      },
      "text/plain": [
       "  0%|          | 0/38 [00:00<?, ?it/s]"
      ]
     },
     "metadata": {},
     "output_type": "display_data"
    },
    {
     "name": "stdout",
     "output_type": "stream",
     "text": [
      "{'eval_loss': 0.06957802921533585, 'eval_runtime': 1.7921, 'eval_samples_per_second': 167.405, 'eval_steps_per_second': 21.205, 'epoch': 0.88}\n",
      "{'loss': 0.124, 'grad_norm': 0.8041754961013794, 'learning_rate': 2.3000000000000003e-05, 'epoch': 0.92}\n"
     ]
    },
    {
     "data": {
      "application/vnd.jupyter.widget-view+json": {
       "model_id": "81127fc1ab5140bd9492d327629d7ac8",
       "version_major": 2,
       "version_minor": 0
      },
      "text/plain": [
       "  0%|          | 0/38 [00:00<?, ?it/s]"
      ]
     },
     "metadata": {},
     "output_type": "display_data"
    },
    {
     "name": "stdout",
     "output_type": "stream",
     "text": [
      "{'eval_loss': 0.057832248508930206, 'eval_runtime': 1.6991, 'eval_samples_per_second': 176.565, 'eval_steps_per_second': 22.365, 'epoch': 0.92}\n",
      "{'loss': 0.1136, 'grad_norm': 0.7044203877449036, 'learning_rate': 2.4e-05, 'epoch': 0.96}\n"
     ]
    },
    {
     "data": {
      "application/vnd.jupyter.widget-view+json": {
       "model_id": "b2d70f7e260b4fb9813edde3aeab05d7",
       "version_major": 2,
       "version_minor": 0
      },
      "text/plain": [
       "  0%|          | 0/38 [00:00<?, ?it/s]"
      ]
     },
     "metadata": {},
     "output_type": "display_data"
    },
    {
     "name": "stdout",
     "output_type": "stream",
     "text": [
      "{'eval_loss': 0.052489399909973145, 'eval_runtime': 1.6788, 'eval_samples_per_second': 178.694, 'eval_steps_per_second': 22.635, 'epoch': 0.96}\n",
      "{'loss': 0.0808, 'grad_norm': 0.6267316937446594, 'learning_rate': 2.5e-05, 'epoch': 1.0}\n"
     ]
    },
    {
     "data": {
      "application/vnd.jupyter.widget-view+json": {
       "model_id": "1ddedc0c0848479695357cf4765e3a33",
       "version_major": 2,
       "version_minor": 0
      },
      "text/plain": [
       "  0%|          | 0/38 [00:00<?, ?it/s]"
      ]
     },
     "metadata": {},
     "output_type": "display_data"
    },
    {
     "name": "stdout",
     "output_type": "stream",
     "text": [
      "{'eval_loss': 0.04706688970327377, 'eval_runtime': 1.6859, 'eval_samples_per_second': 177.942, 'eval_steps_per_second': 22.539, 'epoch': 1.0}\n",
      "{'loss': 0.0893, 'grad_norm': 0.7826982140541077, 'learning_rate': 2.6000000000000002e-05, 'epoch': 1.04}\n"
     ]
    },
    {
     "data": {
      "application/vnd.jupyter.widget-view+json": {
       "model_id": "442670ba03a44230862bf89bc2097f11",
       "version_major": 2,
       "version_minor": 0
      },
      "text/plain": [
       "  0%|          | 0/38 [00:00<?, ?it/s]"
      ]
     },
     "metadata": {},
     "output_type": "display_data"
    },
    {
     "name": "stdout",
     "output_type": "stream",
     "text": [
      "{'eval_loss': 0.042961038649082184, 'eval_runtime': 1.7621, 'eval_samples_per_second': 170.255, 'eval_steps_per_second': 21.566, 'epoch': 1.04}\n",
      "{'loss': 0.0864, 'grad_norm': 0.8148181438446045, 'learning_rate': 2.7000000000000002e-05, 'epoch': 1.08}\n"
     ]
    },
    {
     "data": {
      "application/vnd.jupyter.widget-view+json": {
       "model_id": "98613f9e005f4f948dc4d226708464d9",
       "version_major": 2,
       "version_minor": 0
      },
      "text/plain": [
       "  0%|          | 0/38 [00:00<?, ?it/s]"
      ]
     },
     "metadata": {},
     "output_type": "display_data"
    },
    {
     "name": "stdout",
     "output_type": "stream",
     "text": [
      "{'eval_loss': 0.03859839215874672, 'eval_runtime': 1.6594, 'eval_samples_per_second': 180.792, 'eval_steps_per_second': 22.9, 'epoch': 1.08}\n",
      "{'loss': 0.0838, 'grad_norm': 0.7725770473480225, 'learning_rate': 2.8000000000000003e-05, 'epoch': 1.12}\n"
     ]
    },
    {
     "data": {
      "application/vnd.jupyter.widget-view+json": {
       "model_id": "df7e60914b6a44ed9b6d9a6340803971",
       "version_major": 2,
       "version_minor": 0
      },
      "text/plain": [
       "  0%|          | 0/38 [00:00<?, ?it/s]"
      ]
     },
     "metadata": {},
     "output_type": "display_data"
    },
    {
     "name": "stdout",
     "output_type": "stream",
     "text": [
      "{'eval_loss': 0.03606203570961952, 'eval_runtime': 1.6382, 'eval_samples_per_second': 183.126, 'eval_steps_per_second': 23.196, 'epoch': 1.12}\n",
      "{'loss': 0.0565, 'grad_norm': 0.7234928011894226, 'learning_rate': 2.9e-05, 'epoch': 1.16}\n"
     ]
    },
    {
     "data": {
      "application/vnd.jupyter.widget-view+json": {
       "model_id": "c3b9a70ed45643fc9a4aac275003e0a9",
       "version_major": 2,
       "version_minor": 0
      },
      "text/plain": [
       "  0%|          | 0/38 [00:00<?, ?it/s]"
      ]
     },
     "metadata": {},
     "output_type": "display_data"
    },
    {
     "name": "stdout",
     "output_type": "stream",
     "text": [
      "{'eval_loss': 0.03492185100913048, 'eval_runtime': 1.6747, 'eval_samples_per_second': 179.136, 'eval_steps_per_second': 22.691, 'epoch': 1.16}\n",
      "{'loss': 0.0517, 'grad_norm': 0.6713271737098694, 'learning_rate': 3e-05, 'epoch': 1.2}\n"
     ]
    },
    {
     "data": {
      "application/vnd.jupyter.widget-view+json": {
       "model_id": "68ecadc2d7b44cebb67113ac45d9a5ff",
       "version_major": 2,
       "version_minor": 0
      },
      "text/plain": [
       "  0%|          | 0/38 [00:00<?, ?it/s]"
      ]
     },
     "metadata": {},
     "output_type": "display_data"
    },
    {
     "name": "stdout",
     "output_type": "stream",
     "text": [
      "{'eval_loss': 0.034162260591983795, 'eval_runtime': 1.6739, 'eval_samples_per_second': 179.217, 'eval_steps_per_second': 22.701, 'epoch': 1.2}\n",
      "{'loss': 0.0699, 'grad_norm': 0.6595180630683899, 'learning_rate': 3.1e-05, 'epoch': 1.24}\n"
     ]
    },
    {
     "data": {
      "application/vnd.jupyter.widget-view+json": {
       "model_id": "246b0fbcec7c44918a51464af37e0e0c",
       "version_major": 2,
       "version_minor": 0
      },
      "text/plain": [
       "  0%|          | 0/38 [00:00<?, ?it/s]"
      ]
     },
     "metadata": {},
     "output_type": "display_data"
    },
    {
     "name": "stdout",
     "output_type": "stream",
     "text": [
      "{'eval_loss': 0.030170535668730736, 'eval_runtime': 1.8932, 'eval_samples_per_second': 158.464, 'eval_steps_per_second': 20.072, 'epoch': 1.24}\n",
      "{'loss': 0.0541, 'grad_norm': 0.7472473978996277, 'learning_rate': 3.2000000000000005e-05, 'epoch': 1.28}\n"
     ]
    },
    {
     "data": {
      "application/vnd.jupyter.widget-view+json": {
       "model_id": "fab8ee6585e34c86a547945a1057ab41",
       "version_major": 2,
       "version_minor": 0
      },
      "text/plain": [
       "  0%|          | 0/38 [00:00<?, ?it/s]"
      ]
     },
     "metadata": {},
     "output_type": "display_data"
    },
    {
     "name": "stdout",
     "output_type": "stream",
     "text": [
      "{'eval_loss': 0.02849797159433365, 'eval_runtime': 1.7218, 'eval_samples_per_second': 174.24, 'eval_steps_per_second': 22.07, 'epoch': 1.28}\n",
      "{'loss': 0.0637, 'grad_norm': 0.5648605823516846, 'learning_rate': 3.3e-05, 'epoch': 1.32}\n"
     ]
    },
    {
     "data": {
      "application/vnd.jupyter.widget-view+json": {
       "model_id": "a3dca0a160604f61b3244941532f37da",
       "version_major": 2,
       "version_minor": 0
      },
      "text/plain": [
       "  0%|          | 0/38 [00:00<?, ?it/s]"
      ]
     },
     "metadata": {},
     "output_type": "display_data"
    },
    {
     "name": "stdout",
     "output_type": "stream",
     "text": [
      "{'eval_loss': 0.03096911683678627, 'eval_runtime': 1.7903, 'eval_samples_per_second': 167.565, 'eval_steps_per_second': 21.225, 'epoch': 1.32}\n",
      "{'loss': 0.0553, 'grad_norm': 0.5091552138328552, 'learning_rate': 3.4000000000000007e-05, 'epoch': 1.36}\n"
     ]
    },
    {
     "data": {
      "application/vnd.jupyter.widget-view+json": {
       "model_id": "ee266e35853c4b518ed6453619144da5",
       "version_major": 2,
       "version_minor": 0
      },
      "text/plain": [
       "  0%|          | 0/38 [00:00<?, ?it/s]"
      ]
     },
     "metadata": {},
     "output_type": "display_data"
    },
    {
     "name": "stdout",
     "output_type": "stream",
     "text": [
      "{'eval_loss': 0.028003139421343803, 'eval_runtime': 1.6455, 'eval_samples_per_second': 182.32, 'eval_steps_per_second': 23.094, 'epoch': 1.36}\n",
      "{'loss': 0.0493, 'grad_norm': 0.4452930986881256, 'learning_rate': 3.5e-05, 'epoch': 1.4}\n"
     ]
    },
    {
     "data": {
      "application/vnd.jupyter.widget-view+json": {
       "model_id": "6006f3ef406b4f7181884b9276f78dba",
       "version_major": 2,
       "version_minor": 0
      },
      "text/plain": [
       "  0%|          | 0/38 [00:00<?, ?it/s]"
      ]
     },
     "metadata": {},
     "output_type": "display_data"
    },
    {
     "name": "stdout",
     "output_type": "stream",
     "text": [
      "{'eval_loss': 0.026311954483389854, 'eval_runtime': 1.6083, 'eval_samples_per_second': 186.528, 'eval_steps_per_second': 23.627, 'epoch': 1.4}\n",
      "{'loss': 0.0466, 'grad_norm': 0.3099220097064972, 'learning_rate': 3.6e-05, 'epoch': 1.44}\n"
     ]
    },
    {
     "data": {
      "application/vnd.jupyter.widget-view+json": {
       "model_id": "361d502780d648cfbb955ba4f2fd5b42",
       "version_major": 2,
       "version_minor": 0
      },
      "text/plain": [
       "  0%|          | 0/38 [00:00<?, ?it/s]"
      ]
     },
     "metadata": {},
     "output_type": "display_data"
    },
    {
     "name": "stdout",
     "output_type": "stream",
     "text": [
      "{'eval_loss': 0.026950689032673836, 'eval_runtime': 1.6459, 'eval_samples_per_second': 182.273, 'eval_steps_per_second': 23.088, 'epoch': 1.44}\n",
      "{'loss': 0.0456, 'grad_norm': 0.5695082545280457, 'learning_rate': 3.7e-05, 'epoch': 1.48}\n"
     ]
    },
    {
     "data": {
      "application/vnd.jupyter.widget-view+json": {
       "model_id": "b300c5c76a6547c2a5b860e9d8550a40",
       "version_major": 2,
       "version_minor": 0
      },
      "text/plain": [
       "  0%|          | 0/38 [00:00<?, ?it/s]"
      ]
     },
     "metadata": {},
     "output_type": "display_data"
    },
    {
     "name": "stdout",
     "output_type": "stream",
     "text": [
      "{'eval_loss': 0.023845963180065155, 'eval_runtime': 1.6712, 'eval_samples_per_second': 179.507, 'eval_steps_per_second': 22.737, 'epoch': 1.48}\n",
      "{'loss': 0.0377, 'grad_norm': 0.5810704827308655, 'learning_rate': 3.8e-05, 'epoch': 1.52}\n"
     ]
    },
    {
     "data": {
      "application/vnd.jupyter.widget-view+json": {
       "model_id": "9827afce3d974a2580bf0b845058d021",
       "version_major": 2,
       "version_minor": 0
      },
      "text/plain": [
       "  0%|          | 0/38 [00:00<?, ?it/s]"
      ]
     },
     "metadata": {},
     "output_type": "display_data"
    },
    {
     "name": "stdout",
     "output_type": "stream",
     "text": [
      "{'eval_loss': 0.02308092825114727, 'eval_runtime': 1.6785, 'eval_samples_per_second': 178.73, 'eval_steps_per_second': 22.639, 'epoch': 1.52}\n",
      "{'loss': 0.0362, 'grad_norm': 0.48469221591949463, 'learning_rate': 3.9000000000000006e-05, 'epoch': 1.56}\n"
     ]
    },
    {
     "data": {
      "application/vnd.jupyter.widget-view+json": {
       "model_id": "e658a404a7594eefb1f82a873d212892",
       "version_major": 2,
       "version_minor": 0
      },
      "text/plain": [
       "  0%|          | 0/38 [00:00<?, ?it/s]"
      ]
     },
     "metadata": {},
     "output_type": "display_data"
    },
    {
     "name": "stdout",
     "output_type": "stream",
     "text": [
      "{'eval_loss': 0.023108409717679024, 'eval_runtime': 1.6794, 'eval_samples_per_second': 178.634, 'eval_steps_per_second': 22.627, 'epoch': 1.56}\n",
      "{'loss': 0.041, 'grad_norm': 0.6170305013656616, 'learning_rate': 4e-05, 'epoch': 1.6}\n"
     ]
    },
    {
     "data": {
      "application/vnd.jupyter.widget-view+json": {
       "model_id": "86f1670ef14b449e88b70443fed26c05",
       "version_major": 2,
       "version_minor": 0
      },
      "text/plain": [
       "  0%|          | 0/38 [00:00<?, ?it/s]"
      ]
     },
     "metadata": {},
     "output_type": "display_data"
    },
    {
     "name": "stdout",
     "output_type": "stream",
     "text": [
      "{'eval_loss': 0.021715650334954262, 'eval_runtime': 1.6826, 'eval_samples_per_second': 178.297, 'eval_steps_per_second': 22.584, 'epoch': 1.6}\n",
      "{'loss': 0.0661, 'grad_norm': 0.47529157996177673, 'learning_rate': 4.1e-05, 'epoch': 1.64}\n"
     ]
    },
    {
     "data": {
      "application/vnd.jupyter.widget-view+json": {
       "model_id": "a79ac00398324380a46bed813ce1a99a",
       "version_major": 2,
       "version_minor": 0
      },
      "text/plain": [
       "  0%|          | 0/38 [00:00<?, ?it/s]"
      ]
     },
     "metadata": {},
     "output_type": "display_data"
    },
    {
     "name": "stdout",
     "output_type": "stream",
     "text": [
      "{'eval_loss': 0.02029864676296711, 'eval_runtime': 1.9888, 'eval_samples_per_second': 150.843, 'eval_steps_per_second': 19.107, 'epoch': 1.64}\n",
      "{'loss': 0.0379, 'grad_norm': 0.42998820543289185, 'learning_rate': 4.2e-05, 'epoch': 1.68}\n"
     ]
    },
    {
     "data": {
      "application/vnd.jupyter.widget-view+json": {
       "model_id": "a413415d7dd845b4b2ba03182b4eaca2",
       "version_major": 2,
       "version_minor": 0
      },
      "text/plain": [
       "  0%|          | 0/38 [00:00<?, ?it/s]"
      ]
     },
     "metadata": {},
     "output_type": "display_data"
    },
    {
     "name": "stdout",
     "output_type": "stream",
     "text": [
      "{'eval_loss': 0.020390115678310394, 'eval_runtime': 1.646, 'eval_samples_per_second': 182.26, 'eval_steps_per_second': 23.086, 'epoch': 1.68}\n",
      "{'loss': 0.0426, 'grad_norm': 0.6337922811508179, 'learning_rate': 4.3e-05, 'epoch': 1.72}\n"
     ]
    },
    {
     "data": {
      "application/vnd.jupyter.widget-view+json": {
       "model_id": "f2037c2bb332439e908cd17c1ccb6b42",
       "version_major": 2,
       "version_minor": 0
      },
      "text/plain": [
       "  0%|          | 0/38 [00:00<?, ?it/s]"
      ]
     },
     "metadata": {},
     "output_type": "display_data"
    },
    {
     "name": "stdout",
     "output_type": "stream",
     "text": [
      "{'eval_loss': 0.020627517253160477, 'eval_runtime': 1.6214, 'eval_samples_per_second': 185.029, 'eval_steps_per_second': 23.437, 'epoch': 1.72}\n",
      "{'loss': 0.0357, 'grad_norm': 0.4839968979358673, 'learning_rate': 4.4000000000000006e-05, 'epoch': 1.76}\n"
     ]
    },
    {
     "data": {
      "application/vnd.jupyter.widget-view+json": {
       "model_id": "0e93e5ef61af4dc9a77f7a5ecfc356f9",
       "version_major": 2,
       "version_minor": 0
      },
      "text/plain": [
       "  0%|          | 0/38 [00:00<?, ?it/s]"
      ]
     },
     "metadata": {},
     "output_type": "display_data"
    },
    {
     "name": "stdout",
     "output_type": "stream",
     "text": [
      "{'eval_loss': 0.01876315474510193, 'eval_runtime': 1.6546, 'eval_samples_per_second': 181.315, 'eval_steps_per_second': 22.967, 'epoch': 1.76}\n",
      "{'loss': 0.0359, 'grad_norm': 0.19934968650341034, 'learning_rate': 4.5e-05, 'epoch': 1.8}\n"
     ]
    },
    {
     "data": {
      "application/vnd.jupyter.widget-view+json": {
       "model_id": "0412907eff59422fb87c7e99ed0ce8fc",
       "version_major": 2,
       "version_minor": 0
      },
      "text/plain": [
       "  0%|          | 0/38 [00:00<?, ?it/s]"
      ]
     },
     "metadata": {},
     "output_type": "display_data"
    },
    {
     "name": "stdout",
     "output_type": "stream",
     "text": [
      "{'eval_loss': 0.019160546362400055, 'eval_runtime': 1.6895, 'eval_samples_per_second': 177.572, 'eval_steps_per_second': 22.493, 'epoch': 1.8}\n",
      "{'loss': 0.0335, 'grad_norm': 0.4677280783653259, 'learning_rate': 4.600000000000001e-05, 'epoch': 1.84}\n"
     ]
    },
    {
     "data": {
      "application/vnd.jupyter.widget-view+json": {
       "model_id": "c53cebacaff14944bffb653ef62ef97e",
       "version_major": 2,
       "version_minor": 0
      },
      "text/plain": [
       "  0%|          | 0/38 [00:00<?, ?it/s]"
      ]
     },
     "metadata": {},
     "output_type": "display_data"
    },
    {
     "name": "stdout",
     "output_type": "stream",
     "text": [
      "{'eval_loss': 0.018335120752453804, 'eval_runtime': 1.6925, 'eval_samples_per_second': 177.25, 'eval_steps_per_second': 22.452, 'epoch': 1.84}\n",
      "{'loss': 0.0426, 'grad_norm': 0.2635994255542755, 'learning_rate': 4.7e-05, 'epoch': 1.88}\n"
     ]
    },
    {
     "data": {
      "application/vnd.jupyter.widget-view+json": {
       "model_id": "2d167e2a0c5246528b00de07f9d008d5",
       "version_major": 2,
       "version_minor": 0
      },
      "text/plain": [
       "  0%|          | 0/38 [00:00<?, ?it/s]"
      ]
     },
     "metadata": {},
     "output_type": "display_data"
    },
    {
     "name": "stdout",
     "output_type": "stream",
     "text": [
      "{'eval_loss': 0.016371915116906166, 'eval_runtime': 1.6724, 'eval_samples_per_second': 179.382, 'eval_steps_per_second': 22.722, 'epoch': 1.88}\n",
      "{'loss': 0.0295, 'grad_norm': 0.40386179089546204, 'learning_rate': 4.8e-05, 'epoch': 1.92}\n"
     ]
    },
    {
     "data": {
      "application/vnd.jupyter.widget-view+json": {
       "model_id": "282c743957894864be5c8fa338eb6797",
       "version_major": 2,
       "version_minor": 0
      },
      "text/plain": [
       "  0%|          | 0/38 [00:00<?, ?it/s]"
      ]
     },
     "metadata": {},
     "output_type": "display_data"
    },
    {
     "name": "stdout",
     "output_type": "stream",
     "text": [
      "{'eval_loss': 0.016527067869901657, 'eval_runtime': 1.6466, 'eval_samples_per_second': 182.199, 'eval_steps_per_second': 23.079, 'epoch': 1.92}\n",
      "{'loss': 0.0293, 'grad_norm': 0.2828763723373413, 'learning_rate': 4.9e-05, 'epoch': 1.96}\n"
     ]
    },
    {
     "data": {
      "application/vnd.jupyter.widget-view+json": {
       "model_id": "8b298ee47d1942b5873435b7356510fb",
       "version_major": 2,
       "version_minor": 0
      },
      "text/plain": [
       "  0%|          | 0/38 [00:00<?, ?it/s]"
      ]
     },
     "metadata": {},
     "output_type": "display_data"
    },
    {
     "name": "stdout",
     "output_type": "stream",
     "text": [
      "{'eval_loss': 0.01732897385954857, 'eval_runtime': 1.6994, 'eval_samples_per_second': 176.532, 'eval_steps_per_second': 22.361, 'epoch': 1.96}\n",
      "{'loss': 0.037, 'grad_norm': 0.40370094776153564, 'learning_rate': 5e-05, 'epoch': 2.0}\n"
     ]
    },
    {
     "data": {
      "application/vnd.jupyter.widget-view+json": {
       "model_id": "20a5658b4eb742eab8e32bada48b48eb",
       "version_major": 2,
       "version_minor": 0
      },
      "text/plain": [
       "  0%|          | 0/38 [00:00<?, ?it/s]"
      ]
     },
     "metadata": {},
     "output_type": "display_data"
    },
    {
     "name": "stdout",
     "output_type": "stream",
     "text": [
      "{'eval_loss': 0.015965275466442108, 'eval_runtime': 1.6522, 'eval_samples_per_second': 181.574, 'eval_steps_per_second': 22.999, 'epoch': 2.0}\n",
      "{'loss': 0.0276, 'grad_norm': 0.557058572769165, 'learning_rate': 4.933333333333334e-05, 'epoch': 2.04}\n"
     ]
    },
    {
     "data": {
      "application/vnd.jupyter.widget-view+json": {
       "model_id": "7209b598cdb34da7af1b4086b397cf4f",
       "version_major": 2,
       "version_minor": 0
      },
      "text/plain": [
       "  0%|          | 0/38 [00:00<?, ?it/s]"
      ]
     },
     "metadata": {},
     "output_type": "display_data"
    },
    {
     "name": "stdout",
     "output_type": "stream",
     "text": [
      "{'eval_loss': 0.016129296272993088, 'eval_runtime': 1.8987, 'eval_samples_per_second': 158.005, 'eval_steps_per_second': 20.014, 'epoch': 2.04}\n",
      "{'loss': 0.0294, 'grad_norm': 0.2762199938297272, 'learning_rate': 4.866666666666667e-05, 'epoch': 2.08}\n"
     ]
    },
    {
     "data": {
      "application/vnd.jupyter.widget-view+json": {
       "model_id": "1121eba1d7cf41c9a0e7f66cd827ccdb",
       "version_major": 2,
       "version_minor": 0
      },
      "text/plain": [
       "  0%|          | 0/38 [00:00<?, ?it/s]"
      ]
     },
     "metadata": {},
     "output_type": "display_data"
    },
    {
     "name": "stdout",
     "output_type": "stream",
     "text": [
      "{'eval_loss': 0.015104379504919052, 'eval_runtime': 1.7503, 'eval_samples_per_second': 171.398, 'eval_steps_per_second': 21.71, 'epoch': 2.08}\n",
      "{'loss': 0.028, 'grad_norm': 0.5670009851455688, 'learning_rate': 4.8e-05, 'epoch': 2.12}\n"
     ]
    },
    {
     "data": {
      "application/vnd.jupyter.widget-view+json": {
       "model_id": "6fdd803910ae4989ac7b7c7fca914608",
       "version_major": 2,
       "version_minor": 0
      },
      "text/plain": [
       "  0%|          | 0/38 [00:00<?, ?it/s]"
      ]
     },
     "metadata": {},
     "output_type": "display_data"
    },
    {
     "name": "stdout",
     "output_type": "stream",
     "text": [
      "{'eval_loss': 0.015570211224257946, 'eval_runtime': 1.6982, 'eval_samples_per_second': 176.657, 'eval_steps_per_second': 22.377, 'epoch': 2.12}\n",
      "{'loss': 0.0264, 'grad_norm': 0.3310043513774872, 'learning_rate': 4.7333333333333336e-05, 'epoch': 2.16}\n"
     ]
    },
    {
     "data": {
      "application/vnd.jupyter.widget-view+json": {
       "model_id": "c6d5b12937494e86bf228080fc91fe6a",
       "version_major": 2,
       "version_minor": 0
      },
      "text/plain": [
       "  0%|          | 0/38 [00:00<?, ?it/s]"
      ]
     },
     "metadata": {},
     "output_type": "display_data"
    },
    {
     "name": "stdout",
     "output_type": "stream",
     "text": [
      "{'eval_loss': 0.016095656901597977, 'eval_runtime': 1.6735, 'eval_samples_per_second': 179.261, 'eval_steps_per_second': 22.706, 'epoch': 2.16}\n",
      "{'loss': 0.0332, 'grad_norm': 0.49520763754844666, 'learning_rate': 4.666666666666667e-05, 'epoch': 2.2}\n"
     ]
    },
    {
     "data": {
      "application/vnd.jupyter.widget-view+json": {
       "model_id": "bbaba97920544e649baeab80d2e6f280",
       "version_major": 2,
       "version_minor": 0
      },
      "text/plain": [
       "  0%|          | 0/38 [00:00<?, ?it/s]"
      ]
     },
     "metadata": {},
     "output_type": "display_data"
    },
    {
     "name": "stdout",
     "output_type": "stream",
     "text": [
      "{'eval_loss': 0.01480261329561472, 'eval_runtime': 1.6453, 'eval_samples_per_second': 182.335, 'eval_steps_per_second': 23.096, 'epoch': 2.2}\n",
      "{'loss': 0.0212, 'grad_norm': 0.32576143741607666, 'learning_rate': 4.600000000000001e-05, 'epoch': 2.24}\n"
     ]
    },
    {
     "data": {
      "application/vnd.jupyter.widget-view+json": {
       "model_id": "4b980e3a9eae485d9fa70e0956e7e849",
       "version_major": 2,
       "version_minor": 0
      },
      "text/plain": [
       "  0%|          | 0/38 [00:00<?, ?it/s]"
      ]
     },
     "metadata": {},
     "output_type": "display_data"
    },
    {
     "name": "stdout",
     "output_type": "stream",
     "text": [
      "{'eval_loss': 0.014142587780952454, 'eval_runtime': 1.7101, 'eval_samples_per_second': 175.427, 'eval_steps_per_second': 22.221, 'epoch': 2.24}\n",
      "{'loss': 0.0246, 'grad_norm': 0.513897716999054, 'learning_rate': 4.5333333333333335e-05, 'epoch': 2.28}\n"
     ]
    },
    {
     "data": {
      "application/vnd.jupyter.widget-view+json": {
       "model_id": "74c82c9ed65b49b5b59b803b6ed46b07",
       "version_major": 2,
       "version_minor": 0
      },
      "text/plain": [
       "  0%|          | 0/38 [00:00<?, ?it/s]"
      ]
     },
     "metadata": {},
     "output_type": "display_data"
    },
    {
     "name": "stdout",
     "output_type": "stream",
     "text": [
      "{'eval_loss': 0.0149917583912611, 'eval_runtime': 1.6688, 'eval_samples_per_second': 179.77, 'eval_steps_per_second': 22.771, 'epoch': 2.28}\n",
      "{'loss': 0.0258, 'grad_norm': 0.3642690181732178, 'learning_rate': 4.466666666666667e-05, 'epoch': 2.32}\n"
     ]
    },
    {
     "data": {
      "application/vnd.jupyter.widget-view+json": {
       "model_id": "c4bba6936aa34dc785809326ec45c959",
       "version_major": 2,
       "version_minor": 0
      },
      "text/plain": [
       "  0%|          | 0/38 [00:00<?, ?it/s]"
      ]
     },
     "metadata": {},
     "output_type": "display_data"
    },
    {
     "name": "stdout",
     "output_type": "stream",
     "text": [
      "{'eval_loss': 0.015107515268027782, 'eval_runtime': 1.652, 'eval_samples_per_second': 181.596, 'eval_steps_per_second': 23.002, 'epoch': 2.32}\n",
      "{'loss': 0.0332, 'grad_norm': 0.7385220527648926, 'learning_rate': 4.4000000000000006e-05, 'epoch': 2.36}\n"
     ]
    },
    {
     "data": {
      "application/vnd.jupyter.widget-view+json": {
       "model_id": "951b6885ee43454b8ca45ee2d43301c2",
       "version_major": 2,
       "version_minor": 0
      },
      "text/plain": [
       "  0%|          | 0/38 [00:00<?, ?it/s]"
      ]
     },
     "metadata": {},
     "output_type": "display_data"
    },
    {
     "name": "stdout",
     "output_type": "stream",
     "text": [
      "{'eval_loss': 0.0140707241371274, 'eval_runtime': 1.6593, 'eval_samples_per_second': 180.794, 'eval_steps_per_second': 22.901, 'epoch': 2.36}\n",
      "{'loss': 0.0263, 'grad_norm': 0.34153300523757935, 'learning_rate': 4.3333333333333334e-05, 'epoch': 2.4}\n"
     ]
    },
    {
     "data": {
      "application/vnd.jupyter.widget-view+json": {
       "model_id": "f4d5d3185c5c445ba9b2f96500a2a372",
       "version_major": 2,
       "version_minor": 0
      },
      "text/plain": [
       "  0%|          | 0/38 [00:00<?, ?it/s]"
      ]
     },
     "metadata": {},
     "output_type": "display_data"
    },
    {
     "name": "stdout",
     "output_type": "stream",
     "text": [
      "{'eval_loss': 0.015152749605476856, 'eval_runtime': 1.6399, 'eval_samples_per_second': 182.943, 'eval_steps_per_second': 23.173, 'epoch': 2.4}\n",
      "{'loss': 0.0292, 'grad_norm': 0.33734652400016785, 'learning_rate': 4.266666666666667e-05, 'epoch': 2.44}\n"
     ]
    },
    {
     "data": {
      "application/vnd.jupyter.widget-view+json": {
       "model_id": "d29e52cec5434b17b02ffbd5e17c5cf1",
       "version_major": 2,
       "version_minor": 0
      },
      "text/plain": [
       "  0%|          | 0/38 [00:00<?, ?it/s]"
      ]
     },
     "metadata": {},
     "output_type": "display_data"
    },
    {
     "name": "stdout",
     "output_type": "stream",
     "text": [
      "{'eval_loss': 0.015224709175527096, 'eval_runtime': 1.9102, 'eval_samples_per_second': 157.051, 'eval_steps_per_second': 19.893, 'epoch': 2.44}\n",
      "{'loss': 0.0293, 'grad_norm': 0.1595005840063095, 'learning_rate': 4.2e-05, 'epoch': 2.48}\n"
     ]
    },
    {
     "data": {
      "application/vnd.jupyter.widget-view+json": {
       "model_id": "298c62ae1daf48eaa4927c2648051a07",
       "version_major": 2,
       "version_minor": 0
      },
      "text/plain": [
       "  0%|          | 0/38 [00:00<?, ?it/s]"
      ]
     },
     "metadata": {},
     "output_type": "display_data"
    },
    {
     "name": "stdout",
     "output_type": "stream",
     "text": [
      "{'eval_loss': 0.013319321908056736, 'eval_runtime': 1.744, 'eval_samples_per_second': 172.021, 'eval_steps_per_second': 21.789, 'epoch': 2.48}\n",
      "{'loss': 0.0272, 'grad_norm': 0.22322508692741394, 'learning_rate': 4.133333333333333e-05, 'epoch': 2.52}\n"
     ]
    },
    {
     "data": {
      "application/vnd.jupyter.widget-view+json": {
       "model_id": "027125390aee463fb430e95feab7f55b",
       "version_major": 2,
       "version_minor": 0
      },
      "text/plain": [
       "  0%|          | 0/38 [00:00<?, ?it/s]"
      ]
     },
     "metadata": {},
     "output_type": "display_data"
    },
    {
     "name": "stdout",
     "output_type": "stream",
     "text": [
      "{'eval_loss': 0.013033398427069187, 'eval_runtime': 1.6949, 'eval_samples_per_second': 177.007, 'eval_steps_per_second': 22.421, 'epoch': 2.52}\n",
      "{'loss': 0.0265, 'grad_norm': 0.3281700313091278, 'learning_rate': 4.066666666666667e-05, 'epoch': 2.56}\n"
     ]
    },
    {
     "data": {
      "application/vnd.jupyter.widget-view+json": {
       "model_id": "ca77335ac5c547bab9561c4404bac6b7",
       "version_major": 2,
       "version_minor": 0
      },
      "text/plain": [
       "  0%|          | 0/38 [00:00<?, ?it/s]"
      ]
     },
     "metadata": {},
     "output_type": "display_data"
    },
    {
     "name": "stdout",
     "output_type": "stream",
     "text": [
      "{'eval_loss': 0.014577056281268597, 'eval_runtime': 1.6961, 'eval_samples_per_second': 176.873, 'eval_steps_per_second': 22.404, 'epoch': 2.56}\n",
      "{'loss': 0.0246, 'grad_norm': 0.39065128564834595, 'learning_rate': 4e-05, 'epoch': 2.6}\n"
     ]
    },
    {
     "data": {
      "application/vnd.jupyter.widget-view+json": {
       "model_id": "a42d0d77a5a74ca6be52510bfe4659ed",
       "version_major": 2,
       "version_minor": 0
      },
      "text/plain": [
       "  0%|          | 0/38 [00:00<?, ?it/s]"
      ]
     },
     "metadata": {},
     "output_type": "display_data"
    },
    {
     "name": "stdout",
     "output_type": "stream",
     "text": [
      "{'eval_loss': 0.01276024617254734, 'eval_runtime': 1.6099, 'eval_samples_per_second': 186.351, 'eval_steps_per_second': 23.604, 'epoch': 2.6}\n",
      "{'loss': 0.0233, 'grad_norm': 0.33200326561927795, 'learning_rate': 3.933333333333333e-05, 'epoch': 2.64}\n"
     ]
    },
    {
     "data": {
      "application/vnd.jupyter.widget-view+json": {
       "model_id": "1eb94836c92f40c8a96afd4f9a0df332",
       "version_major": 2,
       "version_minor": 0
      },
      "text/plain": [
       "  0%|          | 0/38 [00:00<?, ?it/s]"
      ]
     },
     "metadata": {},
     "output_type": "display_data"
    },
    {
     "name": "stdout",
     "output_type": "stream",
     "text": [
      "{'eval_loss': 0.012625910341739655, 'eval_runtime': 1.6233, 'eval_samples_per_second': 184.805, 'eval_steps_per_second': 23.409, 'epoch': 2.64}\n",
      "{'loss': 0.0269, 'grad_norm': 0.20524439215660095, 'learning_rate': 3.866666666666667e-05, 'epoch': 2.68}\n"
     ]
    },
    {
     "data": {
      "application/vnd.jupyter.widget-view+json": {
       "model_id": "a64258d6fa184c659c2ceebecb4a0559",
       "version_major": 2,
       "version_minor": 0
      },
      "text/plain": [
       "  0%|          | 0/38 [00:00<?, ?it/s]"
      ]
     },
     "metadata": {},
     "output_type": "display_data"
    },
    {
     "name": "stdout",
     "output_type": "stream",
     "text": [
      "{'eval_loss': 0.012021278962492943, 'eval_runtime': 1.6321, 'eval_samples_per_second': 183.816, 'eval_steps_per_second': 23.283, 'epoch': 2.68}\n",
      "{'loss': 0.0507, 'grad_norm': 0.11464304476976395, 'learning_rate': 3.8e-05, 'epoch': 2.72}\n"
     ]
    },
    {
     "data": {
      "application/vnd.jupyter.widget-view+json": {
       "model_id": "c544e240a3044650954f2fe3673943bc",
       "version_major": 2,
       "version_minor": 0
      },
      "text/plain": [
       "  0%|          | 0/38 [00:00<?, ?it/s]"
      ]
     },
     "metadata": {},
     "output_type": "display_data"
    },
    {
     "name": "stdout",
     "output_type": "stream",
     "text": [
      "{'eval_loss': 0.012151345610618591, 'eval_runtime': 1.422, 'eval_samples_per_second': 210.966, 'eval_steps_per_second': 26.722, 'epoch': 2.72}\n",
      "{'loss': 0.0298, 'grad_norm': 0.48058974742889404, 'learning_rate': 3.733333333333334e-05, 'epoch': 2.76}\n"
     ]
    },
    {
     "data": {
      "application/vnd.jupyter.widget-view+json": {
       "model_id": "74bbfbb3758d49afba1c2a320fde1af6",
       "version_major": 2,
       "version_minor": 0
      },
      "text/plain": [
       "  0%|          | 0/38 [00:00<?, ?it/s]"
      ]
     },
     "metadata": {},
     "output_type": "display_data"
    },
    {
     "name": "stdout",
     "output_type": "stream",
     "text": [
      "{'eval_loss': 0.011686369776725769, 'eval_runtime': 1.4227, 'eval_samples_per_second': 210.867, 'eval_steps_per_second': 26.71, 'epoch': 2.76}\n",
      "{'loss': 0.0217, 'grad_norm': 0.30411651730537415, 'learning_rate': 3.6666666666666666e-05, 'epoch': 2.8}\n"
     ]
    },
    {
     "data": {
      "application/vnd.jupyter.widget-view+json": {
       "model_id": "a38dd0e8335e4b4589466947bc7bbe7b",
       "version_major": 2,
       "version_minor": 0
      },
      "text/plain": [
       "  0%|          | 0/38 [00:00<?, ?it/s]"
      ]
     },
     "metadata": {},
     "output_type": "display_data"
    },
    {
     "name": "stdout",
     "output_type": "stream",
     "text": [
      "{'eval_loss': 0.011056354269385338, 'eval_runtime': 1.4189, 'eval_samples_per_second': 211.432, 'eval_steps_per_second': 26.781, 'epoch': 2.8}\n",
      "{'loss': 0.0218, 'grad_norm': 0.15640690922737122, 'learning_rate': 3.6e-05, 'epoch': 2.84}\n"
     ]
    },
    {
     "data": {
      "application/vnd.jupyter.widget-view+json": {
       "model_id": "d8d35e27989d4417b366dcd63d127fe8",
       "version_major": 2,
       "version_minor": 0
      },
      "text/plain": [
       "  0%|          | 0/38 [00:00<?, ?it/s]"
      ]
     },
     "metadata": {},
     "output_type": "display_data"
    },
    {
     "name": "stdout",
     "output_type": "stream",
     "text": [
      "{'eval_loss': 0.011171026155352592, 'eval_runtime': 1.422, 'eval_samples_per_second': 210.966, 'eval_steps_per_second': 26.722, 'epoch': 2.84}\n",
      "{'loss': 0.02, 'grad_norm': 0.21256859600543976, 'learning_rate': 3.5333333333333336e-05, 'epoch': 2.88}\n"
     ]
    },
    {
     "data": {
      "application/vnd.jupyter.widget-view+json": {
       "model_id": "84c8df772c7b4aee8f0745d1a48dc768",
       "version_major": 2,
       "version_minor": 0
      },
      "text/plain": [
       "  0%|          | 0/38 [00:00<?, ?it/s]"
      ]
     },
     "metadata": {},
     "output_type": "display_data"
    },
    {
     "name": "stdout",
     "output_type": "stream",
     "text": [
      "{'eval_loss': 0.011294904164969921, 'eval_runtime': 1.4824, 'eval_samples_per_second': 202.378, 'eval_steps_per_second': 25.635, 'epoch': 2.88}\n",
      "{'loss': 0.0223, 'grad_norm': 0.1965925395488739, 'learning_rate': 3.466666666666667e-05, 'epoch': 2.92}\n"
     ]
    },
    {
     "data": {
      "application/vnd.jupyter.widget-view+json": {
       "model_id": "372aea881751416dbf8ea85941eb94f8",
       "version_major": 2,
       "version_minor": 0
      },
      "text/plain": [
       "  0%|          | 0/38 [00:00<?, ?it/s]"
      ]
     },
     "metadata": {},
     "output_type": "display_data"
    },
    {
     "name": "stdout",
     "output_type": "stream",
     "text": [
      "{'eval_loss': 0.010842331685125828, 'eval_runtime': 1.4512, 'eval_samples_per_second': 206.729, 'eval_steps_per_second': 26.186, 'epoch': 2.92}\n",
      "{'loss': 0.0251, 'grad_norm': 0.20405399799346924, 'learning_rate': 3.4000000000000007e-05, 'epoch': 2.96}\n"
     ]
    },
    {
     "data": {
      "application/vnd.jupyter.widget-view+json": {
       "model_id": "8b26965ee4854c9e982f44bbcd986ae3",
       "version_major": 2,
       "version_minor": 0
      },
      "text/plain": [
       "  0%|          | 0/38 [00:00<?, ?it/s]"
      ]
     },
     "metadata": {},
     "output_type": "display_data"
    },
    {
     "name": "stdout",
     "output_type": "stream",
     "text": [
      "{'eval_loss': 0.011167346499860287, 'eval_runtime': 1.4215, 'eval_samples_per_second': 211.051, 'eval_steps_per_second': 26.733, 'epoch': 2.96}\n",
      "{'loss': 0.0219, 'grad_norm': 0.4015231728553772, 'learning_rate': 3.3333333333333335e-05, 'epoch': 3.0}\n"
     ]
    },
    {
     "data": {
      "application/vnd.jupyter.widget-view+json": {
       "model_id": "db886fbf8d76452c9e110b0844156bd1",
       "version_major": 2,
       "version_minor": 0
      },
      "text/plain": [
       "  0%|          | 0/38 [00:00<?, ?it/s]"
      ]
     },
     "metadata": {},
     "output_type": "display_data"
    },
    {
     "name": "stdout",
     "output_type": "stream",
     "text": [
      "{'eval_loss': 0.010601326823234558, 'eval_runtime': 1.419, 'eval_samples_per_second': 211.413, 'eval_steps_per_second': 26.779, 'epoch': 3.0}\n",
      "{'loss': 0.0174, 'grad_norm': 0.16255953907966614, 'learning_rate': 3.266666666666667e-05, 'epoch': 3.04}\n"
     ]
    },
    {
     "data": {
      "application/vnd.jupyter.widget-view+json": {
       "model_id": "b7f706f8934447cc9893cc7e7a29d168",
       "version_major": 2,
       "version_minor": 0
      },
      "text/plain": [
       "  0%|          | 0/38 [00:00<?, ?it/s]"
      ]
     },
     "metadata": {},
     "output_type": "display_data"
    },
    {
     "name": "stdout",
     "output_type": "stream",
     "text": [
      "{'eval_loss': 0.01045700628310442, 'eval_runtime': 1.4251, 'eval_samples_per_second': 210.507, 'eval_steps_per_second': 26.664, 'epoch': 3.04}\n",
      "{'loss': 0.0158, 'grad_norm': 0.17632035911083221, 'learning_rate': 3.2000000000000005e-05, 'epoch': 3.08}\n"
     ]
    },
    {
     "data": {
      "application/vnd.jupyter.widget-view+json": {
       "model_id": "e0b53e88b1e942c286b952ef1de87a5a",
       "version_major": 2,
       "version_minor": 0
      },
      "text/plain": [
       "  0%|          | 0/38 [00:00<?, ?it/s]"
      ]
     },
     "metadata": {},
     "output_type": "display_data"
    },
    {
     "name": "stdout",
     "output_type": "stream",
     "text": [
      "{'eval_loss': 0.01037826668471098, 'eval_runtime': 1.4223, 'eval_samples_per_second': 210.927, 'eval_steps_per_second': 26.717, 'epoch': 3.08}\n",
      "{'loss': 0.018, 'grad_norm': 1.4487853050231934, 'learning_rate': 3.1333333333333334e-05, 'epoch': 3.12}\n"
     ]
    },
    {
     "data": {
      "application/vnd.jupyter.widget-view+json": {
       "model_id": "eb077d6333fb4c77af84e2f0b44f36d6",
       "version_major": 2,
       "version_minor": 0
      },
      "text/plain": [
       "  0%|          | 0/38 [00:00<?, ?it/s]"
      ]
     },
     "metadata": {},
     "output_type": "display_data"
    },
    {
     "name": "stdout",
     "output_type": "stream",
     "text": [
      "{'eval_loss': 0.010184021666646004, 'eval_runtime': 1.4303, 'eval_samples_per_second': 209.751, 'eval_steps_per_second': 26.568, 'epoch': 3.12}\n",
      "{'loss': 0.0189, 'grad_norm': 0.23110058903694153, 'learning_rate': 3.066666666666667e-05, 'epoch': 3.16}\n"
     ]
    },
    {
     "data": {
      "application/vnd.jupyter.widget-view+json": {
       "model_id": "abe0bf6830fa406da8aacacc76dd728c",
       "version_major": 2,
       "version_minor": 0
      },
      "text/plain": [
       "  0%|          | 0/38 [00:00<?, ?it/s]"
      ]
     },
     "metadata": {},
     "output_type": "display_data"
    },
    {
     "name": "stdout",
     "output_type": "stream",
     "text": [
      "{'eval_loss': 0.010345048271119595, 'eval_runtime': 1.4157, 'eval_samples_per_second': 211.903, 'eval_steps_per_second': 26.841, 'epoch': 3.16}\n",
      "{'loss': 0.0212, 'grad_norm': 0.2584209442138672, 'learning_rate': 3e-05, 'epoch': 3.2}\n"
     ]
    },
    {
     "data": {
      "application/vnd.jupyter.widget-view+json": {
       "model_id": "b8745bb436ef4681a63db71566d2867d",
       "version_major": 2,
       "version_minor": 0
      },
      "text/plain": [
       "  0%|          | 0/38 [00:00<?, ?it/s]"
      ]
     },
     "metadata": {},
     "output_type": "display_data"
    },
    {
     "name": "stdout",
     "output_type": "stream",
     "text": [
      "{'eval_loss': 0.01124563254415989, 'eval_runtime': 1.4112, 'eval_samples_per_second': 212.583, 'eval_steps_per_second': 26.927, 'epoch': 3.2}\n",
      "{'loss': 0.0235, 'grad_norm': 0.3148351311683655, 'learning_rate': 2.9333333333333336e-05, 'epoch': 3.24}\n"
     ]
    },
    {
     "data": {
      "application/vnd.jupyter.widget-view+json": {
       "model_id": "8008dd6328304b878d4a588d80dcfcc8",
       "version_major": 2,
       "version_minor": 0
      },
      "text/plain": [
       "  0%|          | 0/38 [00:00<?, ?it/s]"
      ]
     },
     "metadata": {},
     "output_type": "display_data"
    },
    {
     "name": "stdout",
     "output_type": "stream",
     "text": [
      "{'eval_loss': 0.010198910720646381, 'eval_runtime': 1.4921, 'eval_samples_per_second': 201.064, 'eval_steps_per_second': 25.468, 'epoch': 3.24}\n",
      "{'loss': 0.0174, 'grad_norm': 0.4014636278152466, 'learning_rate': 2.8666666666666668e-05, 'epoch': 3.28}\n"
     ]
    },
    {
     "data": {
      "application/vnd.jupyter.widget-view+json": {
       "model_id": "1e24690552354b1f8e73a16223046942",
       "version_major": 2,
       "version_minor": 0
      },
      "text/plain": [
       "  0%|          | 0/38 [00:00<?, ?it/s]"
      ]
     },
     "metadata": {},
     "output_type": "display_data"
    },
    {
     "name": "stdout",
     "output_type": "stream",
     "text": [
      "{'eval_loss': 0.009779979474842548, 'eval_runtime': 1.4017, 'eval_samples_per_second': 214.029, 'eval_steps_per_second': 27.11, 'epoch': 3.28}\n",
      "{'loss': 0.02, 'grad_norm': 0.2634580433368683, 'learning_rate': 2.8000000000000003e-05, 'epoch': 3.32}\n"
     ]
    },
    {
     "data": {
      "application/vnd.jupyter.widget-view+json": {
       "model_id": "13be3fbffb4743158b6d9bfee2d674d8",
       "version_major": 2,
       "version_minor": 0
      },
      "text/plain": [
       "  0%|          | 0/38 [00:00<?, ?it/s]"
      ]
     },
     "metadata": {},
     "output_type": "display_data"
    },
    {
     "name": "stdout",
     "output_type": "stream",
     "text": [
      "{'eval_loss': 0.009681054390966892, 'eval_runtime': 1.4001, 'eval_samples_per_second': 214.276, 'eval_steps_per_second': 27.142, 'epoch': 3.32}\n",
      "{'loss': 0.017, 'grad_norm': 0.25788289308547974, 'learning_rate': 2.733333333333333e-05, 'epoch': 3.36}\n"
     ]
    },
    {
     "data": {
      "application/vnd.jupyter.widget-view+json": {
       "model_id": "02f11c99d1d14728a629d29e3efd065d",
       "version_major": 2,
       "version_minor": 0
      },
      "text/plain": [
       "  0%|          | 0/38 [00:00<?, ?it/s]"
      ]
     },
     "metadata": {},
     "output_type": "display_data"
    },
    {
     "name": "stdout",
     "output_type": "stream",
     "text": [
      "{'eval_loss': 0.01009873952716589, 'eval_runtime': 1.3919, 'eval_samples_per_second': 215.526, 'eval_steps_per_second': 27.3, 'epoch': 3.36}\n",
      "{'loss': 0.0181, 'grad_norm': 0.46284550428390503, 'learning_rate': 2.6666666666666667e-05, 'epoch': 3.4}\n"
     ]
    },
    {
     "data": {
      "application/vnd.jupyter.widget-view+json": {
       "model_id": "109e2554bd354d8aa11e91c51c60d110",
       "version_major": 2,
       "version_minor": 0
      },
      "text/plain": [
       "  0%|          | 0/38 [00:00<?, ?it/s]"
      ]
     },
     "metadata": {},
     "output_type": "display_data"
    },
    {
     "name": "stdout",
     "output_type": "stream",
     "text": [
      "{'eval_loss': 0.009939748793840408, 'eval_runtime': 1.3931, 'eval_samples_per_second': 215.35, 'eval_steps_per_second': 27.278, 'epoch': 3.4}\n",
      "{'loss': 0.0174, 'grad_norm': 0.23878520727157593, 'learning_rate': 2.6000000000000002e-05, 'epoch': 3.44}\n"
     ]
    },
    {
     "data": {
      "application/vnd.jupyter.widget-view+json": {
       "model_id": "b1efc68cbd0b4f5ca0fa0584a91bf92b",
       "version_major": 2,
       "version_minor": 0
      },
      "text/plain": [
       "  0%|          | 0/38 [00:00<?, ?it/s]"
      ]
     },
     "metadata": {},
     "output_type": "display_data"
    },
    {
     "name": "stdout",
     "output_type": "stream",
     "text": [
      "{'eval_loss': 0.009197220206260681, 'eval_runtime': 1.4121, 'eval_samples_per_second': 212.455, 'eval_steps_per_second': 26.911, 'epoch': 3.44}\n",
      "{'loss': 0.0229, 'grad_norm': 0.24363406002521515, 'learning_rate': 2.5333333333333337e-05, 'epoch': 3.48}\n"
     ]
    },
    {
     "data": {
      "application/vnd.jupyter.widget-view+json": {
       "model_id": "e7cb0f8b38d64c898c6ce13b66c59ac1",
       "version_major": 2,
       "version_minor": 0
      },
      "text/plain": [
       "  0%|          | 0/38 [00:00<?, ?it/s]"
      ]
     },
     "metadata": {},
     "output_type": "display_data"
    },
    {
     "name": "stdout",
     "output_type": "stream",
     "text": [
      "{'eval_loss': 0.009148665703833103, 'eval_runtime': 1.4243, 'eval_samples_per_second': 210.63, 'eval_steps_per_second': 26.68, 'epoch': 3.48}\n",
      "{'loss': 0.02, 'grad_norm': 0.451996386051178, 'learning_rate': 2.466666666666667e-05, 'epoch': 3.52}\n"
     ]
    },
    {
     "data": {
      "application/vnd.jupyter.widget-view+json": {
       "model_id": "d584027c672b4b22aec51b5fb5519e30",
       "version_major": 2,
       "version_minor": 0
      },
      "text/plain": [
       "  0%|          | 0/38 [00:00<?, ?it/s]"
      ]
     },
     "metadata": {},
     "output_type": "display_data"
    },
    {
     "name": "stdout",
     "output_type": "stream",
     "text": [
      "{'eval_loss': 0.009235613979399204, 'eval_runtime': 1.5123, 'eval_samples_per_second': 198.373, 'eval_steps_per_second': 25.127, 'epoch': 3.52}\n",
      "{'loss': 0.0237, 'grad_norm': 0.26342371106147766, 'learning_rate': 2.4e-05, 'epoch': 3.56}\n"
     ]
    },
    {
     "data": {
      "application/vnd.jupyter.widget-view+json": {
       "model_id": "edd72cdca10b459cb5958abc3ec0ffb6",
       "version_major": 2,
       "version_minor": 0
      },
      "text/plain": [
       "  0%|          | 0/38 [00:00<?, ?it/s]"
      ]
     },
     "metadata": {},
     "output_type": "display_data"
    },
    {
     "name": "stdout",
     "output_type": "stream",
     "text": [
      "{'eval_loss': 0.00939060840755701, 'eval_runtime': 1.4314, 'eval_samples_per_second': 209.581, 'eval_steps_per_second': 26.547, 'epoch': 3.56}\n",
      "{'loss': 0.0156, 'grad_norm': 0.265473335981369, 'learning_rate': 2.3333333333333336e-05, 'epoch': 3.6}\n"
     ]
    },
    {
     "data": {
      "application/vnd.jupyter.widget-view+json": {
       "model_id": "1075b8876e964ea9a4b87fb38dc59dad",
       "version_major": 2,
       "version_minor": 0
      },
      "text/plain": [
       "  0%|          | 0/38 [00:00<?, ?it/s]"
      ]
     },
     "metadata": {},
     "output_type": "display_data"
    },
    {
     "name": "stdout",
     "output_type": "stream",
     "text": [
      "{'eval_loss': 0.009437617845833302, 'eval_runtime': 1.5453, 'eval_samples_per_second': 194.143, 'eval_steps_per_second': 24.591, 'epoch': 3.6}\n",
      "{'loss': 0.0185, 'grad_norm': 0.2168886810541153, 'learning_rate': 2.2666666666666668e-05, 'epoch': 3.64}\n"
     ]
    },
    {
     "data": {
      "application/vnd.jupyter.widget-view+json": {
       "model_id": "d2f0aebf287d4e4ea20f65ab89bab18e",
       "version_major": 2,
       "version_minor": 0
      },
      "text/plain": [
       "  0%|          | 0/38 [00:00<?, ?it/s]"
      ]
     },
     "metadata": {},
     "output_type": "display_data"
    },
    {
     "name": "stdout",
     "output_type": "stream",
     "text": [
      "{'eval_loss': 0.009137040004134178, 'eval_runtime': 1.4583, 'eval_samples_per_second': 205.725, 'eval_steps_per_second': 26.058, 'epoch': 3.64}\n",
      "{'loss': 0.0234, 'grad_norm': 0.2815133035182953, 'learning_rate': 2.2000000000000003e-05, 'epoch': 3.68}\n"
     ]
    },
    {
     "data": {
      "application/vnd.jupyter.widget-view+json": {
       "model_id": "b8dda9a2037649b5a7957cf8ec43f747",
       "version_major": 2,
       "version_minor": 0
      },
      "text/plain": [
       "  0%|          | 0/38 [00:00<?, ?it/s]"
      ]
     },
     "metadata": {},
     "output_type": "display_data"
    },
    {
     "name": "stdout",
     "output_type": "stream",
     "text": [
      "{'eval_loss': 0.008879167027771473, 'eval_runtime': 1.4547, 'eval_samples_per_second': 206.235, 'eval_steps_per_second': 26.123, 'epoch': 3.68}\n",
      "{'loss': 0.0227, 'grad_norm': 0.5887842178344727, 'learning_rate': 2.1333333333333335e-05, 'epoch': 3.72}\n"
     ]
    },
    {
     "data": {
      "application/vnd.jupyter.widget-view+json": {
       "model_id": "43a03cb14f9047639e18b317df47d86d",
       "version_major": 2,
       "version_minor": 0
      },
      "text/plain": [
       "  0%|          | 0/38 [00:00<?, ?it/s]"
      ]
     },
     "metadata": {},
     "output_type": "display_data"
    },
    {
     "name": "stdout",
     "output_type": "stream",
     "text": [
      "{'eval_loss': 0.008909215219318867, 'eval_runtime': 1.5891, 'eval_samples_per_second': 188.782, 'eval_steps_per_second': 23.912, 'epoch': 3.72}\n",
      "{'loss': 0.0137, 'grad_norm': 0.12995783984661102, 'learning_rate': 2.0666666666666666e-05, 'epoch': 3.76}\n"
     ]
    },
    {
     "data": {
      "application/vnd.jupyter.widget-view+json": {
       "model_id": "3298a4113c104a93ba4add47dbd94891",
       "version_major": 2,
       "version_minor": 0
      },
      "text/plain": [
       "  0%|          | 0/38 [00:00<?, ?it/s]"
      ]
     },
     "metadata": {},
     "output_type": "display_data"
    },
    {
     "name": "stdout",
     "output_type": "stream",
     "text": [
      "{'eval_loss': 0.008930385112762451, 'eval_runtime': 1.6465, 'eval_samples_per_second': 182.206, 'eval_steps_per_second': 23.079, 'epoch': 3.76}\n",
      "{'loss': 0.0182, 'grad_norm': 0.35130298137664795, 'learning_rate': 2e-05, 'epoch': 3.8}\n"
     ]
    },
    {
     "data": {
      "application/vnd.jupyter.widget-view+json": {
       "model_id": "9cc93b080265460691364c16b29945ce",
       "version_major": 2,
       "version_minor": 0
      },
      "text/plain": [
       "  0%|          | 0/38 [00:00<?, ?it/s]"
      ]
     },
     "metadata": {},
     "output_type": "display_data"
    },
    {
     "name": "stdout",
     "output_type": "stream",
     "text": [
      "{'eval_loss': 0.008994771167635918, 'eval_runtime': 1.6696, 'eval_samples_per_second': 179.687, 'eval_steps_per_second': 22.76, 'epoch': 3.8}\n",
      "{'loss': 0.0255, 'grad_norm': 0.19845779240131378, 'learning_rate': 1.9333333333333333e-05, 'epoch': 3.84}\n"
     ]
    },
    {
     "data": {
      "application/vnd.jupyter.widget-view+json": {
       "model_id": "bb6fd6d87b264b73bfdd2e04851b4099",
       "version_major": 2,
       "version_minor": 0
      },
      "text/plain": [
       "  0%|          | 0/38 [00:00<?, ?it/s]"
      ]
     },
     "metadata": {},
     "output_type": "display_data"
    },
    {
     "name": "stdout",
     "output_type": "stream",
     "text": [
      "{'eval_loss': 0.009274929761886597, 'eval_runtime': 1.6698, 'eval_samples_per_second': 179.667, 'eval_steps_per_second': 22.758, 'epoch': 3.84}\n",
      "{'loss': 0.015, 'grad_norm': 0.2958223819732666, 'learning_rate': 1.866666666666667e-05, 'epoch': 3.88}\n"
     ]
    },
    {
     "data": {
      "application/vnd.jupyter.widget-view+json": {
       "model_id": "4c3bbb99dc6142f88526e9f159769137",
       "version_major": 2,
       "version_minor": 0
      },
      "text/plain": [
       "  0%|          | 0/38 [00:00<?, ?it/s]"
      ]
     },
     "metadata": {},
     "output_type": "display_data"
    },
    {
     "name": "stdout",
     "output_type": "stream",
     "text": [
      "{'eval_loss': 0.008868040516972542, 'eval_runtime': 1.7515, 'eval_samples_per_second': 171.282, 'eval_steps_per_second': 21.696, 'epoch': 3.88}\n",
      "{'loss': 0.0144, 'grad_norm': 0.10839535295963287, 'learning_rate': 1.8e-05, 'epoch': 3.92}\n"
     ]
    },
    {
     "data": {
      "application/vnd.jupyter.widget-view+json": {
       "model_id": "fb5ab7b349f740ddaf41ff57c5c42747",
       "version_major": 2,
       "version_minor": 0
      },
      "text/plain": [
       "  0%|          | 0/38 [00:00<?, ?it/s]"
      ]
     },
     "metadata": {},
     "output_type": "display_data"
    },
    {
     "name": "stdout",
     "output_type": "stream",
     "text": [
      "{'eval_loss': 0.008732686750590801, 'eval_runtime': 1.8028, 'eval_samples_per_second': 166.411, 'eval_steps_per_second': 21.079, 'epoch': 3.92}\n",
      "{'loss': 0.0163, 'grad_norm': 0.46745702624320984, 'learning_rate': 1.7333333333333336e-05, 'epoch': 3.96}\n"
     ]
    },
    {
     "data": {
      "application/vnd.jupyter.widget-view+json": {
       "model_id": "3c09d6db8343488dbdb1bcf6b9ceb957",
       "version_major": 2,
       "version_minor": 0
      },
      "text/plain": [
       "  0%|          | 0/38 [00:00<?, ?it/s]"
      ]
     },
     "metadata": {},
     "output_type": "display_data"
    },
    {
     "name": "stdout",
     "output_type": "stream",
     "text": [
      "{'eval_loss': 0.008681092411279678, 'eval_runtime': 1.6614, 'eval_samples_per_second': 180.567, 'eval_steps_per_second': 22.872, 'epoch': 3.96}\n",
      "{'loss': 0.019, 'grad_norm': 0.23146897554397583, 'learning_rate': 1.6666666666666667e-05, 'epoch': 4.0}\n"
     ]
    },
    {
     "data": {
      "application/vnd.jupyter.widget-view+json": {
       "model_id": "386eeff9c9a64e649e68187579643661",
       "version_major": 2,
       "version_minor": 0
      },
      "text/plain": [
       "  0%|          | 0/38 [00:00<?, ?it/s]"
      ]
     },
     "metadata": {},
     "output_type": "display_data"
    },
    {
     "name": "stdout",
     "output_type": "stream",
     "text": [
      "{'eval_loss': 0.008544174954295158, 'eval_runtime': 1.5833, 'eval_samples_per_second': 189.475, 'eval_steps_per_second': 24.0, 'epoch': 4.0}\n",
      "{'loss': 0.019, 'grad_norm': 0.22970540821552277, 'learning_rate': 1.6000000000000003e-05, 'epoch': 4.04}\n"
     ]
    },
    {
     "data": {
      "application/vnd.jupyter.widget-view+json": {
       "model_id": "340996469b274f48915787b441fc22c8",
       "version_major": 2,
       "version_minor": 0
      },
      "text/plain": [
       "  0%|          | 0/38 [00:00<?, ?it/s]"
      ]
     },
     "metadata": {},
     "output_type": "display_data"
    },
    {
     "name": "stdout",
     "output_type": "stream",
     "text": [
      "{'eval_loss': 0.008577689528465271, 'eval_runtime': 1.9895, 'eval_samples_per_second': 150.789, 'eval_steps_per_second': 19.1, 'epoch': 4.04}\n",
      "{'loss': 0.0136, 'grad_norm': 0.16426855325698853, 'learning_rate': 1.5333333333333334e-05, 'epoch': 4.08}\n"
     ]
    },
    {
     "data": {
      "application/vnd.jupyter.widget-view+json": {
       "model_id": "5400febd6c9b4252a3d7755016d0f3d4",
       "version_major": 2,
       "version_minor": 0
      },
      "text/plain": [
       "  0%|          | 0/38 [00:00<?, ?it/s]"
      ]
     },
     "metadata": {},
     "output_type": "display_data"
    },
    {
     "name": "stdout",
     "output_type": "stream",
     "text": [
      "{'eval_loss': 0.008803610689938068, 'eval_runtime': 1.7669, 'eval_samples_per_second': 169.792, 'eval_steps_per_second': 21.507, 'epoch': 4.08}\n",
      "{'loss': 0.0183, 'grad_norm': 0.20937564969062805, 'learning_rate': 1.4666666666666668e-05, 'epoch': 4.12}\n"
     ]
    },
    {
     "data": {
      "application/vnd.jupyter.widget-view+json": {
       "model_id": "573f1785a1974e14a3b3a9d72cf5ecb3",
       "version_major": 2,
       "version_minor": 0
      },
      "text/plain": [
       "  0%|          | 0/38 [00:00<?, ?it/s]"
      ]
     },
     "metadata": {},
     "output_type": "display_data"
    },
    {
     "name": "stdout",
     "output_type": "stream",
     "text": [
      "{'eval_loss': 0.00879368744790554, 'eval_runtime': 1.6998, 'eval_samples_per_second': 176.487, 'eval_steps_per_second': 22.355, 'epoch': 4.12}\n",
      "{'loss': 0.0161, 'grad_norm': 0.2801029086112976, 'learning_rate': 1.4000000000000001e-05, 'epoch': 4.16}\n"
     ]
    },
    {
     "data": {
      "application/vnd.jupyter.widget-view+json": {
       "model_id": "11f96e4de4e043198dab8b8eb00996f0",
       "version_major": 2,
       "version_minor": 0
      },
      "text/plain": [
       "  0%|          | 0/38 [00:00<?, ?it/s]"
      ]
     },
     "metadata": {},
     "output_type": "display_data"
    },
    {
     "name": "stdout",
     "output_type": "stream",
     "text": [
      "{'eval_loss': 0.008432293310761452, 'eval_runtime': 1.7072, 'eval_samples_per_second': 175.724, 'eval_steps_per_second': 22.258, 'epoch': 4.16}\n",
      "{'loss': 0.0139, 'grad_norm': 0.26980072259902954, 'learning_rate': 1.3333333333333333e-05, 'epoch': 4.2}\n"
     ]
    },
    {
     "data": {
      "application/vnd.jupyter.widget-view+json": {
       "model_id": "1c48f59c92f042efb504b1fe18ce3fff",
       "version_major": 2,
       "version_minor": 0
      },
      "text/plain": [
       "  0%|          | 0/38 [00:00<?, ?it/s]"
      ]
     },
     "metadata": {},
     "output_type": "display_data"
    },
    {
     "name": "stdout",
     "output_type": "stream",
     "text": [
      "{'eval_loss': 0.008348817005753517, 'eval_runtime': 1.8003, 'eval_samples_per_second': 166.64, 'eval_steps_per_second': 21.108, 'epoch': 4.2}\n",
      "{'loss': 0.0173, 'grad_norm': 0.134576216340065, 'learning_rate': 1.2666666666666668e-05, 'epoch': 4.24}\n"
     ]
    },
    {
     "data": {
      "application/vnd.jupyter.widget-view+json": {
       "model_id": "70d9c439f9164ded91e43c82735fba0c",
       "version_major": 2,
       "version_minor": 0
      },
      "text/plain": [
       "  0%|          | 0/38 [00:00<?, ?it/s]"
      ]
     },
     "metadata": {},
     "output_type": "display_data"
    },
    {
     "name": "stdout",
     "output_type": "stream",
     "text": [
      "{'eval_loss': 0.008361787535250187, 'eval_runtime': 1.7085, 'eval_samples_per_second': 175.589, 'eval_steps_per_second': 22.241, 'epoch': 4.24}\n",
      "{'loss': 0.0162, 'grad_norm': 0.4616354703903198, 'learning_rate': 1.2e-05, 'epoch': 4.28}\n"
     ]
    },
    {
     "data": {
      "application/vnd.jupyter.widget-view+json": {
       "model_id": "fa359b46d3794487b7cce6cfc6e73fc1",
       "version_major": 2,
       "version_minor": 0
      },
      "text/plain": [
       "  0%|          | 0/38 [00:00<?, ?it/s]"
      ]
     },
     "metadata": {},
     "output_type": "display_data"
    },
    {
     "name": "stdout",
     "output_type": "stream",
     "text": [
      "{'eval_loss': 0.008388576097786427, 'eval_runtime': 1.659, 'eval_samples_per_second': 180.834, 'eval_steps_per_second': 22.906, 'epoch': 4.28}\n",
      "{'loss': 0.0154, 'grad_norm': 0.2851812243461609, 'learning_rate': 1.1333333333333334e-05, 'epoch': 4.32}\n"
     ]
    },
    {
     "data": {
      "application/vnd.jupyter.widget-view+json": {
       "model_id": "88166f81893145aea29305756f9f78db",
       "version_major": 2,
       "version_minor": 0
      },
      "text/plain": [
       "  0%|          | 0/38 [00:00<?, ?it/s]"
      ]
     },
     "metadata": {},
     "output_type": "display_data"
    },
    {
     "name": "stdout",
     "output_type": "stream",
     "text": [
      "{'eval_loss': 0.008261127397418022, 'eval_runtime': 1.663, 'eval_samples_per_second': 180.398, 'eval_steps_per_second': 22.85, 'epoch': 4.32}\n",
      "{'loss': 0.0164, 'grad_norm': 0.47003549337387085, 'learning_rate': 1.0666666666666667e-05, 'epoch': 4.36}\n"
     ]
    },
    {
     "data": {
      "application/vnd.jupyter.widget-view+json": {
       "model_id": "0a567e0b9934444ea497d0671b840737",
       "version_major": 2,
       "version_minor": 0
      },
      "text/plain": [
       "  0%|          | 0/38 [00:00<?, ?it/s]"
      ]
     },
     "metadata": {},
     "output_type": "display_data"
    },
    {
     "name": "stdout",
     "output_type": "stream",
     "text": [
      "{'eval_loss': 0.008004521019756794, 'eval_runtime': 1.6016, 'eval_samples_per_second': 187.315, 'eval_steps_per_second': 23.727, 'epoch': 4.36}\n",
      "{'loss': 0.009, 'grad_norm': 0.19408054649829865, 'learning_rate': 1e-05, 'epoch': 4.4}\n"
     ]
    },
    {
     "data": {
      "application/vnd.jupyter.widget-view+json": {
       "model_id": "9861d393771948bbb90cfe905c3c38c3",
       "version_major": 2,
       "version_minor": 0
      },
      "text/plain": [
       "  0%|          | 0/38 [00:00<?, ?it/s]"
      ]
     },
     "metadata": {},
     "output_type": "display_data"
    },
    {
     "name": "stdout",
     "output_type": "stream",
     "text": [
      "{'eval_loss': 0.008034009486436844, 'eval_runtime': 1.6378, 'eval_samples_per_second': 183.172, 'eval_steps_per_second': 23.202, 'epoch': 4.4}\n",
      "{'loss': 0.013, 'grad_norm': 0.28282231092453003, 'learning_rate': 9.333333333333334e-06, 'epoch': 4.44}\n"
     ]
    },
    {
     "data": {
      "application/vnd.jupyter.widget-view+json": {
       "model_id": "f3f2b349d3e94ee6be82005cbd4603a1",
       "version_major": 2,
       "version_minor": 0
      },
      "text/plain": [
       "  0%|          | 0/38 [00:00<?, ?it/s]"
      ]
     },
     "metadata": {},
     "output_type": "display_data"
    },
    {
     "name": "stdout",
     "output_type": "stream",
     "text": [
      "{'eval_loss': 0.008044242858886719, 'eval_runtime': 2.8768, 'eval_samples_per_second': 104.283, 'eval_steps_per_second': 13.209, 'epoch': 4.44}\n",
      "{'loss': 0.0162, 'grad_norm': 0.3451182544231415, 'learning_rate': 8.666666666666668e-06, 'epoch': 4.48}\n"
     ]
    },
    {
     "data": {
      "application/vnd.jupyter.widget-view+json": {
       "model_id": "e36c8f48ee2641e68198473f2892997b",
       "version_major": 2,
       "version_minor": 0
      },
      "text/plain": [
       "  0%|          | 0/38 [00:00<?, ?it/s]"
      ]
     },
     "metadata": {},
     "output_type": "display_data"
    },
    {
     "name": "stdout",
     "output_type": "stream",
     "text": [
      "{'eval_loss': 0.008250280283391476, 'eval_runtime': 2.8404, 'eval_samples_per_second': 105.617, 'eval_steps_per_second': 13.378, 'epoch': 4.48}\n",
      "{'loss': 0.0151, 'grad_norm': 0.2872339189052582, 'learning_rate': 8.000000000000001e-06, 'epoch': 4.52}\n"
     ]
    },
    {
     "data": {
      "application/vnd.jupyter.widget-view+json": {
       "model_id": "c756e6015647473a8dad4d66795cfb60",
       "version_major": 2,
       "version_minor": 0
      },
      "text/plain": [
       "  0%|          | 0/38 [00:00<?, ?it/s]"
      ]
     },
     "metadata": {},
     "output_type": "display_data"
    },
    {
     "name": "stdout",
     "output_type": "stream",
     "text": [
      "{'eval_loss': 0.008290392346680164, 'eval_runtime': 3.1692, 'eval_samples_per_second': 94.66, 'eval_steps_per_second': 11.99, 'epoch': 4.52}\n",
      "{'loss': 0.015, 'grad_norm': 0.15136420726776123, 'learning_rate': 7.333333333333334e-06, 'epoch': 4.56}\n"
     ]
    },
    {
     "data": {
      "application/vnd.jupyter.widget-view+json": {
       "model_id": "78b21fd597cd4c3593d095b3f9a9fe5f",
       "version_major": 2,
       "version_minor": 0
      },
      "text/plain": [
       "  0%|          | 0/38 [00:00<?, ?it/s]"
      ]
     },
     "metadata": {},
     "output_type": "display_data"
    },
    {
     "name": "stdout",
     "output_type": "stream",
     "text": [
      "{'eval_loss': 0.008041823282837868, 'eval_runtime': 3.1552, 'eval_samples_per_second': 95.082, 'eval_steps_per_second': 12.044, 'epoch': 4.56}\n",
      "{'loss': 0.0089, 'grad_norm': 0.09036611765623093, 'learning_rate': 6.666666666666667e-06, 'epoch': 4.6}\n"
     ]
    },
    {
     "data": {
      "application/vnd.jupyter.widget-view+json": {
       "model_id": "934975b2d00e4213bdc6299715230a76",
       "version_major": 2,
       "version_minor": 0
      },
      "text/plain": [
       "  0%|          | 0/38 [00:00<?, ?it/s]"
      ]
     },
     "metadata": {},
     "output_type": "display_data"
    },
    {
     "name": "stdout",
     "output_type": "stream",
     "text": [
      "{'eval_loss': 0.007937364280223846, 'eval_runtime': 3.1441, 'eval_samples_per_second': 95.417, 'eval_steps_per_second': 12.086, 'epoch': 4.6}\n",
      "{'loss': 0.0177, 'grad_norm': 0.3624504506587982, 'learning_rate': 6e-06, 'epoch': 4.64}\n"
     ]
    },
    {
     "data": {
      "application/vnd.jupyter.widget-view+json": {
       "model_id": "a2f044d911bd412aa94674f741c685e2",
       "version_major": 2,
       "version_minor": 0
      },
      "text/plain": [
       "  0%|          | 0/38 [00:00<?, ?it/s]"
      ]
     },
     "metadata": {},
     "output_type": "display_data"
    },
    {
     "name": "stdout",
     "output_type": "stream",
     "text": [
      "{'eval_loss': 0.007887106388807297, 'eval_runtime': 3.0572, 'eval_samples_per_second': 98.128, 'eval_steps_per_second': 12.43, 'epoch': 4.64}\n",
      "{'loss': 0.0137, 'grad_norm': 0.2172195017337799, 'learning_rate': 5.333333333333334e-06, 'epoch': 4.68}\n"
     ]
    },
    {
     "data": {
      "application/vnd.jupyter.widget-view+json": {
       "model_id": "d0c7b2d8e013433a8ab75a4834b93215",
       "version_major": 2,
       "version_minor": 0
      },
      "text/plain": [
       "  0%|          | 0/38 [00:00<?, ?it/s]"
      ]
     },
     "metadata": {},
     "output_type": "display_data"
    },
    {
     "name": "stdout",
     "output_type": "stream",
     "text": [
      "{'eval_loss': 0.007889598608016968, 'eval_runtime': 3.1329, 'eval_samples_per_second': 95.759, 'eval_steps_per_second': 12.13, 'epoch': 4.68}\n",
      "{'loss': 0.0151, 'grad_norm': 0.28599119186401367, 'learning_rate': 4.666666666666667e-06, 'epoch': 4.72}\n"
     ]
    },
    {
     "data": {
      "application/vnd.jupyter.widget-view+json": {
       "model_id": "a49d422bdc5c457591d2171a6178bac7",
       "version_major": 2,
       "version_minor": 0
      },
      "text/plain": [
       "  0%|          | 0/38 [00:00<?, ?it/s]"
      ]
     },
     "metadata": {},
     "output_type": "display_data"
    },
    {
     "name": "stdout",
     "output_type": "stream",
     "text": [
      "{'eval_loss': 0.00799168087542057, 'eval_runtime': 3.1317, 'eval_samples_per_second': 95.794, 'eval_steps_per_second': 12.134, 'epoch': 4.72}\n",
      "{'loss': 0.0203, 'grad_norm': 0.5378378033638, 'learning_rate': 4.000000000000001e-06, 'epoch': 4.76}\n"
     ]
    },
    {
     "data": {
      "application/vnd.jupyter.widget-view+json": {
       "model_id": "e8f2385a4cf14dba83981682830d58d7",
       "version_major": 2,
       "version_minor": 0
      },
      "text/plain": [
       "  0%|          | 0/38 [00:00<?, ?it/s]"
      ]
     },
     "metadata": {},
     "output_type": "display_data"
    },
    {
     "name": "stdout",
     "output_type": "stream",
     "text": [
      "{'eval_loss': 0.00792661216109991, 'eval_runtime': 3.1755, 'eval_samples_per_second': 94.472, 'eval_steps_per_second': 11.966, 'epoch': 4.76}\n",
      "{'loss': 0.0197, 'grad_norm': 0.333296537399292, 'learning_rate': 3.3333333333333333e-06, 'epoch': 4.8}\n"
     ]
    },
    {
     "data": {
      "application/vnd.jupyter.widget-view+json": {
       "model_id": "d2d93ea093ad48778e78ea1a2ffa484e",
       "version_major": 2,
       "version_minor": 0
      },
      "text/plain": [
       "  0%|          | 0/38 [00:00<?, ?it/s]"
      ]
     },
     "metadata": {},
     "output_type": "display_data"
    },
    {
     "name": "stdout",
     "output_type": "stream",
     "text": [
      "{'eval_loss': 0.007835591211915016, 'eval_runtime': 3.1597, 'eval_samples_per_second': 94.946, 'eval_steps_per_second': 12.026, 'epoch': 4.8}\n",
      "{'loss': 0.0183, 'grad_norm': 0.16142237186431885, 'learning_rate': 2.666666666666667e-06, 'epoch': 4.84}\n"
     ]
    },
    {
     "data": {
      "application/vnd.jupyter.widget-view+json": {
       "model_id": "02d3d7bdf9d04f47992bf373ad12a213",
       "version_major": 2,
       "version_minor": 0
      },
      "text/plain": [
       "  0%|          | 0/38 [00:00<?, ?it/s]"
      ]
     },
     "metadata": {},
     "output_type": "display_data"
    },
    {
     "name": "stdout",
     "output_type": "stream",
     "text": [
      "{'eval_loss': 0.007811718620359898, 'eval_runtime': 3.0781, 'eval_samples_per_second': 97.463, 'eval_steps_per_second': 12.345, 'epoch': 4.84}\n",
      "{'loss': 0.0118, 'grad_norm': 0.06563033163547516, 'learning_rate': 2.0000000000000003e-06, 'epoch': 4.88}\n"
     ]
    },
    {
     "data": {
      "application/vnd.jupyter.widget-view+json": {
       "model_id": "4d6d9e85a4e5425da8fba0d856b65093",
       "version_major": 2,
       "version_minor": 0
      },
      "text/plain": [
       "  0%|          | 0/38 [00:00<?, ?it/s]"
      ]
     },
     "metadata": {},
     "output_type": "display_data"
    },
    {
     "name": "stdout",
     "output_type": "stream",
     "text": [
      "{'eval_loss': 0.007748129311949015, 'eval_runtime': 3.1125, 'eval_samples_per_second': 96.384, 'eval_steps_per_second': 12.209, 'epoch': 4.88}\n",
      "{'loss': 0.0132, 'grad_norm': 0.16321663558483124, 'learning_rate': 1.3333333333333334e-06, 'epoch': 4.92}\n"
     ]
    },
    {
     "data": {
      "application/vnd.jupyter.widget-view+json": {
       "model_id": "98f5584391f946b8af6684592ba4ee46",
       "version_major": 2,
       "version_minor": 0
      },
      "text/plain": [
       "  0%|          | 0/38 [00:00<?, ?it/s]"
      ]
     },
     "metadata": {},
     "output_type": "display_data"
    },
    {
     "name": "stdout",
     "output_type": "stream",
     "text": [
      "{'eval_loss': 0.007708521094173193, 'eval_runtime': 3.1798, 'eval_samples_per_second': 94.347, 'eval_steps_per_second': 11.951, 'epoch': 4.92}\n",
      "{'loss': 0.0179, 'grad_norm': 0.28067320585250854, 'learning_rate': 6.666666666666667e-07, 'epoch': 4.96}\n"
     ]
    },
    {
     "data": {
      "application/vnd.jupyter.widget-view+json": {
       "model_id": "edbf488e864544a69dab23a2727ee335",
       "version_major": 2,
       "version_minor": 0
      },
      "text/plain": [
       "  0%|          | 0/38 [00:00<?, ?it/s]"
      ]
     },
     "metadata": {},
     "output_type": "display_data"
    },
    {
     "name": "stdout",
     "output_type": "stream",
     "text": [
      "{'eval_loss': 0.007705272175371647, 'eval_runtime': 3.1577, 'eval_samples_per_second': 95.005, 'eval_steps_per_second': 12.034, 'epoch': 4.96}\n",
      "{'loss': 0.0188, 'grad_norm': 0.2869487702846527, 'learning_rate': 0.0, 'epoch': 5.0}\n"
     ]
    },
    {
     "data": {
      "application/vnd.jupyter.widget-view+json": {
       "model_id": "7fd76445604f471cbf920725ea8d2b5b",
       "version_major": 2,
       "version_minor": 0
      },
      "text/plain": [
       "  0%|          | 0/38 [00:00<?, ?it/s]"
      ]
     },
     "metadata": {},
     "output_type": "display_data"
    },
    {
     "name": "stdout",
     "output_type": "stream",
     "text": [
      "{'eval_loss': 0.007703553885221481, 'eval_runtime': 3.0915, 'eval_samples_per_second': 97.039, 'eval_steps_per_second': 12.292, 'epoch': 5.0}\n",
      "{'train_runtime': 520.0988, 'train_samples_per_second': 19.227, 'train_steps_per_second': 2.403, 'train_loss': 0.7479060190320015, 'epoch': 5.0}\n"
     ]
    },
    {
     "data": {
      "text/plain": [
       "TrainOutput(global_step=1250, training_loss=0.7479060190320015, metrics={'train_runtime': 520.0988, 'train_samples_per_second': 19.227, 'train_steps_per_second': 2.403, 'total_flos': 1522394726400000.0, 'train_loss': 0.7479060190320015, 'epoch': 5.0})"
      ]
     },
     "execution_count": 6,
     "metadata": {},
     "output_type": "execute_result"
    }
   ],
   "source": [
    "from transformers import T5ForConditionalGeneration, Trainer, TrainingArguments\n",
    "\n",
    "# Initialize the model\n",
    "model = T5ForConditionalGeneration.from_pretrained('t5-base')\n",
    "\n",
    "# Define the training arguments\n",
    "training_args = TrainingArguments(\n",
    "    output_dir=\"./results\",\n",
    "    num_train_epochs=5,\n",
    "    per_device_train_batch_size=8,\n",
    "    per_device_eval_batch_size=8,\n",
    "    warmup_steps=500,\n",
    "    weight_decay=0.01,\n",
    "    logging_dir=\"./logs\",\n",
    "    logging_steps=10,\n",
    "    eval_strategy=\"steps\",  # Added for periodic evaluation\n",
    "    save_total_limit=1, \n",
    "    save_steps=100,\n",
    ")\n",
    "\n",
    "# Initialize the Trainer\n",
    "trainer = Trainer(\n",
    "    model=model,\n",
    "    args=training_args,\n",
    "    train_dataset=train_encoded,\n",
    "    eval_dataset=val_encoded,\n",
    ")\n",
    "\n",
    "# Train the model\n",
    "trainer.train()"
   ]
  },
  {
   "cell_type": "code",
   "execution_count": 9,
   "metadata": {},
   "outputs": [],
   "source": [
    "# Inference \n",
    "def complete_sentence(input_text):\n",
    "    inputs = tokenizer(input_text, return_tensors=\"pt\").input_ids.to(device)\n",
    "    outputs = model.generate(inputs, max_new_tokens=60)\n",
    "    return tokenizer.decode(outputs[0], skip_special_tokens=True)"
   ]
  },
  {
   "cell_type": "code",
   "execution_count": 10,
   "metadata": {},
   "outputs": [
    {
     "name": "stdout",
     "output_type": "stream",
     "text": [
      "Input: Entity Extraction: Ken Pu is going to meet Zikun Fu and Chen Yang on Sunday morning.\n",
      "Output: ENT> CONT> is going to meet ENT> CONT> and ENT> CONT> on ENT> morning.\n",
      "\n"
     ]
    }
   ],
   "source": [
    "input_text = \"Entity Extraction: Ken Pu is going to meet Zikun Fu and Chen Yang on Sunday morning.\"\n",
    "\n",
    "print(\"Input: \" +input_text)\n",
    "print(\"Output: \"+complete_sentence(input_text)+\"\\n\")"
   ]
  },
  {
   "cell_type": "code",
   "execution_count": 15,
   "metadata": {},
   "outputs": [
    {
     "name": "stdout",
     "output_type": "stream",
     "text": [
      "Input: Entity Extraction: Ken Pu and Zikun is going to have a party by the beach with penguins. Chen Yang is coming with Ma HuaTeng tomorrow for a vacation.\n",
      "Output: ENT> CONT> and ENT> is going to have a party by the beach with penguins. ENT> CONT> is coming with ENT> CONT> tomorrow for a vacation.\n",
      "\n"
     ]
    }
   ],
   "source": [
    "input_text = \"Entity Extraction: Ken Pu and Zikun is going to have a party by the beach with penguins. Chen Yang is coming with Ma HuaTeng tomorrow for a vacation.\"\n",
    "\n",
    "print(\"Input: \" +input_text)\n",
    "print(\"Output: \"+complete_sentence(input_text)+\"\\n\")"
   ]
  }
 ],
 "metadata": {
  "kernelspec": {
   "display_name": "embed",
   "language": "python",
   "name": "python3"
  },
  "language_info": {
   "codemirror_mode": {
    "name": "ipython",
    "version": 3
   },
   "file_extension": ".py",
   "mimetype": "text/x-python",
   "name": "python",
   "nbconvert_exporter": "python",
   "pygments_lexer": "ipython3",
   "version": "3.12.3"
  }
 },
 "nbformat": 4,
 "nbformat_minor": 2
}
