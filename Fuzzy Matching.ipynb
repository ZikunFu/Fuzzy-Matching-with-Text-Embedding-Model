{
 "cells": [
  {
   "cell_type": "code",
   "execution_count": 25,
   "metadata": {},
   "outputs": [],
   "source": [
    "import pandas as pd\n",
    "from transformers import T5Tokenizer, T5ForConditionalGeneration, Trainer, TrainingArguments\n",
    "import torch\n",
    "from torch.utils.data import Dataset, DataLoader\n",
    "device = torch.device('cuda' if torch.cuda.is_available() else 'cpu')"
   ]
  },
  {
   "cell_type": "markdown",
   "metadata": {},
   "source": [
    "## Dataset"
   ]
  },
  {
   "cell_type": "code",
   "execution_count": 26,
   "metadata": {},
   "outputs": [
    {
     "data": {
      "text/html": [
       "<div>\n",
       "<style scoped>\n",
       "    .dataframe tbody tr th:only-of-type {\n",
       "        vertical-align: middle;\n",
       "    }\n",
       "\n",
       "    .dataframe tbody tr th {\n",
       "        vertical-align: top;\n",
       "    }\n",
       "\n",
       "    .dataframe thead th {\n",
       "        text-align: right;\n",
       "    }\n",
       "</style>\n",
       "<table border=\"1\" class=\"dataframe\">\n",
       "  <thead>\n",
       "    <tr style=\"text-align: right;\">\n",
       "      <th></th>\n",
       "      <th>input</th>\n",
       "      <th>output</th>\n",
       "    </tr>\n",
       "  </thead>\n",
       "  <tbody>\n",
       "    <tr>\n",
       "      <th>0</th>\n",
       "      <td>[Zikun Fu, Nick Yang, Ken Pu] Complete the sen...</td>\n",
       "      <td>Zikun Fu and Ken Pu should meet Nick Yang.</td>\n",
       "    </tr>\n",
       "    <tr>\n",
       "      <th>1</th>\n",
       "      <td>[Zikun Fu, Nick Yang, Ken Pu] Complete the sen...</td>\n",
       "      <td>Nick Yang and Zikun Fu are working with Ken Pu.</td>\n",
       "    </tr>\n",
       "    <tr>\n",
       "      <th>2</th>\n",
       "      <td>[Zikun Fu, Nick Yang, Ken Pu] Complete the sen...</td>\n",
       "      <td>Nick Yang and Zikun Fu should have dinner with...</td>\n",
       "    </tr>\n",
       "  </tbody>\n",
       "</table>\n",
       "</div>"
      ],
      "text/plain": [
       "                                               input  \\\n",
       "0  [Zikun Fu, Nick Yang, Ken Pu] Complete the sen...   \n",
       "1  [Zikun Fu, Nick Yang, Ken Pu] Complete the sen...   \n",
       "2  [Zikun Fu, Nick Yang, Ken Pu] Complete the sen...   \n",
       "\n",
       "                                              output  \n",
       "0         Zikun Fu and Ken Pu should meet Nick Yang.  \n",
       "1    Nick Yang and Zikun Fu are working with Ken Pu.  \n",
       "2  Nick Yang and Zikun Fu should have dinner with...  "
      ]
     },
     "execution_count": 26,
     "metadata": {},
     "output_type": "execute_result"
    }
   ],
   "source": [
    "train_data = [\n",
    "    {\"input\": \"[Zikun Fu, Nick Yang, Ken Pu] Complete the sentence: Z F and K P should meet N.Y.\", \n",
    "     \"output\": \"Zikun Fu and Ken Pu should meet Nick Yang.\"},\n",
    "    {\"input\": \"[Zikun Fu, Nick Yang, Ken Pu] Complete the sentence: Ni Ya and Zi.F are working with K.P.\", \n",
    "     \"output\": \"Nick Yang and Zikun Fu are working with Ken Pu.\"},\n",
    "    {\"input\": \"[Zikun Fu, Nick Yang, Ken Pu] Complete the sentence: ick ang and Z F should have dinner with K P.\", \n",
    "     \"output\": \"Nick Yang and Zikun Fu should have dinner with Ken Pu.\"},\n",
    "    {\"input\": \"[Zikun Fu, Nick Yang, Ken Pu] Complete the sentence: ick ang and Z F are working with K P.\", \n",
    "     \"output\": \"Nick Yang and Zikun Fu are working with Ken Pu.\"},\n",
    "    {\"input\": \"[Alice Johnson, Bob Smith, Carol White] Complete the sentence: A J and B S should meet C.W.\", \n",
    "     \"output\": \"Alice Johnson and Bob Smith should meet Carol White.\"},\n",
    "    {\"input\": \"[Emily Brown, David Green, Fiona Black] Complete the sentence: E B and D G should discuss with F B.\", \n",
    "     \"output\": \"Emily Brown and David Green should discuss with Fiona Black.\"},\n",
    "    {\"input\": \"[George Blue, Harry Red, Ivy Yellow] Complete the sentence: G B and H R will collaborate with I Y.\", \n",
    "     \"output\": \"George Blue and Harry Red will collaborate with Ivy Yellow.\"},\n",
    "    {\"input\": \"[Jack Orange, Kelly Pink, Liam Purple] Complete the sentence: J O and K P should join L P for lunch.\", \n",
    "     \"output\": \"Jack Orange and Kelly Pink should join Liam Purple for lunch.\"},\n",
    "    {\"input\": \"[Mona Gray, Nathan Gold, Olivia Silver] Complete the sentence: M G and N G are going to meet O S.\", \n",
    "     \"output\": \"Mona Gray and Nathan Gold are going to meet Olivia Silver.\"},\n",
    "    {\"input\": \"[Peter Bronze, Quinn Copper, Rachel Steel] Complete the sentence: P B and Q C are having a meeting with R S.\", \n",
    "     \"output\": \"Peter Bronze and Quinn Copper are having a meeting with Rachel Steel.\"},\n",
    "    {\"input\": \"[Sophia Platinum, Thomas Diamond, Uma Ruby] Complete the sentence: S P and T D will have a call with U R.\", \n",
    "     \"output\": \"Sophia Platinum and Thomas Diamond will have a call with Uma Ruby.\"},\n",
    "    {\"input\": \"[Victor Jade, Wendy Coral, Xavier Emerald] Complete the sentence: V J and W C are planning a project with X E.\", \n",
    "     \"output\": \"Victor Jade and Wendy Coral are planning a project with Xavier Emerald.\"},\n",
    "    {\"input\": \"[Yasmine Turquoise, Zachary Amethyst, Amber Violet] Complete the sentence: Y T and Z A should catch up with A V.\", \n",
    "     \"output\": \"Yasmine Turquoise and Zachary Amethyst should catch up with Amber Violet.\"},\n",
    "    {\"input\": \"[Bella Amber, Charlie Cyan, Danny Crimson] Complete the sentence: B A and C C will work with D C.\", \n",
    "     \"output\": \"Bella Amber and Charlie Cyan will work with Danny Crimson.\"},\n",
    "    {\"input\": \"[Ella Maroon, Frank Teal, Grace Indigo] Complete the sentence: E M and F T should coordinate with G I.\", \n",
    "     \"output\": \"Ella Maroon and Frank Teal should coordinate with Grace Indigo.\"},\n",
    "    {\"input\": \"[Henry Periwinkle, Isla Ochre, James Lavender] Complete the sentence: H P and I O are consulting with J L.\", \n",
    "     \"output\": \"Henry Periwinkle and Isla Ochre are consulting with James Lavender.\"},\n",
    "    {\"input\": \"[Karen Taupe, Leo Mint, Maria Peach] Complete the sentence: K T and L M should review with M P.\", \n",
    "     \"output\": \"Karen Taupe and Leo Mint should review with Maria Peach.\"},\n",
    "    {\"input\": \"[Nancy Lilac, Oliver Rose, Penny Fuchsia] Complete the sentence: N L and O R are scheduled to meet P F.\", \n",
    "     \"output\": \"Nancy Lilac and Oliver Rose are scheduled to meet Penny Fuchsia.\"},\n",
    "    {\"input\": \"[Quincy Slate, Rebecca Blush, Steve Coral] Complete the sentence: Q S and R B are planning to visit S C.\", \n",
    "     \"output\": \"Quincy Slate and Rebecca Blush are planning to visit Steve Coral.\"},\n",
    "    {\"input\": \"[Tracy Topaz, Uma Jade, Vera Citrine] Complete the sentence: T T and U J should discuss the project with V C.\", \n",
    "     \"output\": \"Tracy Topaz and Uma Jade should discuss the project with Vera Citrine.\"},\n",
    "    {\"input\": \"[William Sapphire, Xena Ruby, Yara Diamond] Complete the sentence: W S and X R are joining the meeting with Y D.\", \n",
    "     \"output\": \"William Sapphire and Xena Ruby are joining the meeting with Yara Diamond.\"},\n",
    "    {\"input\": \"[Zara Gold, Andy Silver, Brooke Bronze] Complete the sentence: Z G and A S will present with B B.\", \n",
    "     \"output\": \"Zara Gold and Andy Silver will present with Brooke Bronze.\"},\n",
    "    {\"input\": \"[Chloe Amber, Dean Crimson, Emma Olive] Complete the sentence: C A and D C should have a talk with E O.\", \n",
    "     \"output\": \"Chloe Amber and Dean Crimson should have a talk with Emma Olive.\"},\n",
    "    {\"input\": \"[Finn Lavender, Gwen Pearl, Holly Aqua] Complete the sentence: F L and G P are going to collaborate with H A.\", \n",
    "     \"output\": \"Finn Lavender and Gwen Pearl are going to collaborate with Holly Aqua.\"},\n",
    "    {\"input\": \"[Ian Quartz, Jade Saffron, Kyle Amber] Complete the sentence: I Q and J S should join forces with K A.\", \n",
    "     \"output\": \"Ian Quartz and Jade Saffron should join forces with Kyle Amber.\"},\n",
    "    {\"input\": \"[Lila Garnet, Max Opal, Nina Garnet] Complete the sentence: L G and M O are scheduled to work with N G.\", \n",
    "     \"output\": \"Lila Garnet and Max Opal are scheduled to work with Nina Garnet.\"},\n",
    "    {\"input\": \"[Oscar Emerald, Paula Ruby, Quinn Teal] Complete the sentence: O E and P R are preparing a presentation with Q T.\", \n",
    "     \"output\": \"Oscar Emerald and Paula Ruby are preparing a presentation with Quinn Teal.\"},\n",
    "    {\"input\": \"[Rita Pearl, Sean Blue, Tina Violet] Complete the sentence: R P and S B will organize an event with T V.\", \n",
    "     \"output\": \"Rita Pearl and Sean Blue will organize an event with Tina Violet.\"},\n",
    "    {\"input\": \"[Uma Coral, Victor Amber, Wendy Maroon] Complete the sentence: U C and V A are planning a workshop with W M.\", \n",
    "     \"output\": \"Uma Coral and Victor Amber are planning a workshop with Wendy Maroon.\"},\n",
    "    {\"input\": \"[Xander Rose, Yasmine Olive, Zack Topaz] Complete the sentence: X R and Y O should attend a seminar with Z T.\", \n",
    "     \"output\": \"Xander Rose and Yasmine Olive should attend a seminar with Zack Topaz.\"},\n",
    "    {\"input\": \"[Alex Ruby, Brooke Sapphire, Charlie Pearl] Complete the sentence: A R and B S are leading a project with C P.\", \n",
    "     \"output\": \"Alex Ruby and Brooke Sapphire are leading a project with Charlie Pearl.\"},\n",
    "    {\"input\": \"[Daisy Jade, Ethan Silver, Fiona Topaz] Complete the sentence: D J and E S are coordinating efforts with F T.\", \n",
    "     \"output\": \"Daisy Jade and Ethan Silver are coordinating efforts with Fiona Topaz.\"},\n",
    "    {\"input\": \"[George Amber, Hazel Opal, Ivy Pearl] Complete the sentence: G A and H O should meet I P for a discussion.\", \n",
    "     \"output\": \"George Amber and Hazel Opal should meet Ivy Pearl for a discussion.\"},\n",
    "    {\"input\": \"[Jack Coral, Kelly Gold, Liam Bronze] Complete the sentence: J C and K G will collaborate with L B.\", \n",
    "     \"output\": \"Jack Coral and Kelly Gold will collaborate with Liam Bronze.\"},\n",
    "    {\"input\": \"[Mona Silver, Nathan Jade, Olivia Topaz] Complete the sentence: M S and N J should prepare with O T.\", \n",
    "     \"output\": \"Mona Silver and Nathan Jade should prepare with Olivia Topaz.\"},\n",
    "    {\"input\": \"[Peter Ruby, Quinn Sapphire, Rachel Pearl] Complete the sentence: P R and Q S are planning with R P.\", \n",
    "     \"output\": \"Peter Ruby and Quinn Sapphire are planning with Rachel Pearl.\"},\n",
    "    {\"input\": \"[Sophia Jade, Thomas Gold, Uma Amber] Complete the sentence: S J and T G are organizing with U A.\", \n",
    "     \"output\": \"Sophia Jade and Thomas Gold are organizing with Uma Amber.\"},\n",
    "    {\"input\": \"[Victor Silver, Wendy Opal, Xavier Topaz] Complete the sentence: V S and W O should finalize plans with X T.\", \n",
    "     \"output\": \"Victor Silver and Wendy Opal should finalize plans with Xavier Topaz.\"},\n",
    "    {\"input\": \"[Yara Coral, Zachary Jade, Amber Pearl] Complete the sentence: Y C and Z J will review with A P.\", \n",
    "     \"output\": \"Yara Coral and Zachary Jade will review with Amber Pearl.\"},\n",
    "     {\"input\": \"[Emily Brown, Elsa Betty, David Grass, David Green, Finny Blade, Fiona Black] Complete the sentence: E B and D G are chatting with F B.\", \n",
    "     \"output\": \"Emily Brown and David Green are chatting with Fiona Black.\"},\n",
    "    {\"input\": \"[Emily Brown, Elsa Betty, David Grass, David Green, Finny Blade, Fiona Black] Complete the sentence: D G and F B are working with E B.\", \n",
    "     \"output\": \"David Green and Fiona Black are working with Emily Brown.\"},\n",
    "    {\"input\": \"[Alice Johnson, Alicia Jordan, Bob Smith, Carol White] Complete the sentence: A J and B S should meet C W.\", \n",
    "     \"output\": \"Alice Johnson and Bob Smith should meet Carol White.\"},\n",
    "    {\"input\": \"[Alice Johnson, Alicia Jordan, Bob Smith, Carol White] Complete the sentence: A J and A J should meet B S.\", \n",
    "     \"output\": \"Alice Johnson and Alicia Jordan should meet Bob Smith.\"},\n",
    "    {\"input\": \"[Frank Green, Franky Gray, George Blue, Harry Red, Ivy Yellow] Complete the sentence: F G and H R are working with G B.\", \n",
    "     \"output\": \"Frank Green and Harry Red are working with George Blue.\"},\n",
    "    {\"input\": \"[Frank Green, Franky Gray, George Blue, Harry Red, Ivy Yellow] Complete the sentence: F G and I Y should review with F G.\", \n",
    "     \"output\": \"Frank Green and Ivy Yellow should review with Franky Gray.\"},\n",
    "    {\"input\": \"[Karen Taupe, Karla Tan, Leo Mint, Maria Peach, Nancy Lilac] Complete the sentence: K T and L M should meet M P.\", \n",
    "     \"output\": \"Karen Taupe and Leo Mint should meet Maria Peach.\"},\n",
    "    {\"input\": \"[Karen Taupe, Karla Tan, Leo Mint, Maria Peach, Nancy Lilac] Complete the sentence: K T and N L should review with K T.\", \n",
    "     \"output\": \"Karen Taupe and Nancy Lilac should review with Karla Tan.\"},\n",
    "    {\"input\": \"[Quincy Slate, Quinn Silver, Rebecca Blush, Steve Coral, Tracy Topaz] Complete the sentence: Q S and R B are planning to visit S C.\", \n",
    "     \"output\": \"Quincy Slate and Rebecca Blush are planning to visit Steve Coral.\"},\n",
    "    {\"input\": \"[Quincy Slate, Quinn Silver, Rebecca Blush, Steve Coral, Tracy Topaz] Complete the sentence: Q S and T T should meet R B.\", \n",
    "     \"output\": \"Quincy Slate and Tracy Topaz should meet Rebecca Blush.\"},\n",
    "    {\"input\": \"[Xena Ruby, Xenia Rose, Yara Diamond, Zara Gold, Andy Silver] Complete the sentence: X R and Y D should discuss with Z G.\", \n",
    "     \"output\": \"Xena Ruby and Yara Diamond should discuss with Zara Gold.\"},\n",
    "    {\"input\": \"[Xena Ruby, Xenia Rose, Yara Diamond, Zara Gold, Andy Silver] Complete the sentence: X R and X R are working with A S.\", \n",
    "     \"output\": \"Xena Ruby and Xenia Rose are working with Andy Silver.\"},\n",
    "    {\"input\": \"[Finn Lavender, Gwen Pearl, Holly Aqua, Ian Quartz, Jade Saffron] Complete the sentence: F L and G P will meet with H A and I Q.\", \n",
    "     \"output\": \"Finn Lavender and Gwen Pearl will meet with Holly Aqua and Ian Quartz.\"},\n",
    "    {\"input\": \"[Finn Lavender, Gwen Pearl, Holly Aqua, Ian Quartz, Jade Saffron] Complete the sentence: J S and H A are joining F L and G P.\", \n",
    "     \"output\": \"Jade Saffron and Holly Aqua are joining Finn Lavender and Gwen Pearl.\"},\n",
    "    {\"input\": \"[Nancy Violet, Oscar Emerald, Paula Ruby, Quinn Teal, Rita Pearl] Complete the sentence: N V and O E are working with P R and Q T.\", \n",
    "     \"output\": \"Nancy Violet and Oscar Emerald are working with Paula Ruby and Quinn Teal.\"},\n",
    "    {\"input\": \"[Nancy Violet, Oscar Emerald, Paula Ruby, Quinn Teal, Rita Pearl] Complete the sentence: R P and O E are coordinating with Q T and P R.\", \n",
    "     \"output\": \"Rita Pearl and Oscar Emerald are coordinating with Quinn Teal and Paula Ruby.\"},\n",
    "    {\"input\": \"[Wendy Maroon, Xander Rose, Yasmine Olive, Zack Topaz, Alex Ruby] Complete the sentence: W M and X R should join forces with Y O and Z T.\", \n",
    "     \"output\": \"Wendy Maroon and Xander Rose should join forces with Yasmine Olive and Zack Topaz.\"},\n",
    "    {\"input\": \"[Wendy Maroon, Xander Rose, Yasmine Olive, Zack Topaz, Alex Ruby] Complete the sentence: A R and Z T are collaborating with Y O and W M.\", \n",
    "     \"output\": \"Alex Ruby and Zack Topaz are collaborating with Yasmine Olive and Wendy Maroon.\"},\n",
    "    {\"input\": \"[George Amber, Hazel Opal, Ivy Pearl, Jack Coral, Kelly Gold] Complete the sentence: G A and H O are coordinating efforts with I P and J C.\", \n",
    "     \"output\": \"George Amber and Hazel Opal are coordinating efforts with Ivy Pearl and Jack Coral.\"},\n",
    "    {\"input\": \"[George Amber, Hazel Opal, Ivy Pearl, Jack Coral, Kelly Gold] Complete the sentence: K G and G A are working with H O and I P.\", \n",
    "     \"output\": \"Kelly Gold and George Amber are working with Hazel Opal and Ivy Pearl.\"},\n",
    "    {\"input\": \"[Rachel Pearl, Sophia Jade, Thomas Gold, Uma Amber, Victor Silver] Complete the sentence: R P and S J are discussing with T G and U A.\", \n",
    "     \"output\": \"Rachel Pearl and Sophia Jade are discussing with Thomas Gold and Uma Amber.\"},\n",
    "    {\"input\": \"[Rachel Pearl, Sophia Jade, Thomas Gold, Uma Amber, Victor Silver] Complete the sentence: V S and T G are coordinating with S J and U A.\", \n",
    "     \"output\": \"Victor Silver and Thomas Gold are coordinating with Sophia Jade and Uma Amber.\"},\n",
    "]\n",
    "df = pd.DataFrame(train_data)\n",
    "df.head(3)"
   ]
  },
  {
   "cell_type": "code",
   "execution_count": 3,
   "metadata": {},
   "outputs": [],
   "source": [
    "test_data = [\n",
    "    {\"input\": \"[Alice Johnson, Bob Smith, Carol White, Dave Brown, Eve Black] Complete the sentence: A J and B S should meet C W.\", \n",
    "     \"output\": \"Alice Johnson and Bob Smith should meet Carol White.\"},\n",
    "    {\"input\": \"[Frank Green, George Blue, Harry Red, Ivy Yellow, Jack Orange] Complete the sentence: F G and G B are working with H R.\", \n",
    "     \"output\": \"Frank Green and George Blue are working with Harry Red.\"},\n",
    "    {\"input\": \"[Karen Taupe, Leo Mint, Maria Peach, Nancy Lilac, Oliver Rose, Penny Fuchsia] Complete the sentence: K T and L M should review with M P and N L.\", \n",
    "     \"output\": \"Karen Taupe and Leo Mint should review with Maria Peach and Nancy Lilac.\"},\n",
    "    {\"input\": \"[Quincy Slate, Rebecca Blush, Steve Coral, Tracy Topaz, Uma Jade, Vera Citrine, William Sapphire] Complete the sentence: Q S and R B are planning to visit S C.\", \n",
    "     \"output\": \"Quincy Slate and Rebecca Blush are planning to visit Steve Coral.\"},\n",
    "    {\"input\": \"[Xena Ruby, Yara Diamond, Zara Gold, Andy Silver, Brooke Bronze, Chloe Amber, Dean Crimson, Emma Olive] Complete the sentence: X R and Y D should discuss with Z G.\", \n",
    "     \"output\": \"Xena Ruby and Yara Diamond should discuss with Zara Gold.\"},\n",
    "    {\"input\": \"[Finn Lavender, Gwen Pearl, Holly Aqua, Ian Quartz, Jade Saffron, Kyle Amber, Lila Garnet, Max Opal] Complete the sentence: F L and G P will meet with H A and I Q.\", \n",
    "     \"output\": \"Finn Lavender and Gwen Pearl will meet with Holly Aqua and Ian Quartz.\"},\n",
    "    {\"input\": \"[Nancy Violet, Oscar Emerald, Paula Ruby, Quinn Teal, Rita Pearl, Sean Blue, Tina Violet, Uma Coral, Victor Amber] Complete the sentence: N V and O E are working with P R and Q T.\", \n",
    "     \"output\": \"Nancy Violet and Oscar Emerald are working with Paula Ruby and Quinn Teal.\"},\n",
    "    {\"input\": \"[Wendy Maroon, Xander Rose, Yasmine Olive, Zack Topaz, Alex Ruby, Brooke Sapphire, Charlie Pearl, Daisy Jade, Ethan Silver, Fiona Topaz] Complete the sentence: W M and X R should join forces with Y O and Z T.\", \n",
    "     \"output\": \"Wendy Maroon and Xander Rose should join forces with Yasmine Olive and Zack Topaz.\"},\n",
    "    {\"input\": \"[George Amber, Hazel Opal, Ivy Pearl, Jack Coral, Kelly Gold, Liam Bronze, Mona Silver, Nathan Jade, Olivia Topaz, Peter Ruby, Quinn Sapphire] Complete the sentence: G A and H O are coordinating efforts with I P and J C.\", \n",
    "     \"output\": \"George Amber and Hazel Opal are coordinating efforts with Ivy Pearl and Jack Coral.\"},\n",
    "    {\"input\": \"[Rachel Pearl, Sophia Jade, Thomas Gold, Uma Amber, Victor Silver, Wendy Opal, Xavier Topaz, Yara Coral, Zachary Jade, Amber Pearl, Bella Ruby, Charlie Gold, Dean Jade] Complete the sentence: R P and S J are discussing with T G and U A.\", \n",
    "     \"output\": \"Rachel Pearl and Sophia Jade are discussing with Thomas Gold and Uma Amber.\"},\n",
    "     {\"input\": \"[Emily Brown, Elsa Betty, David Grass, David Green, Finny Blade, Fiona Black] Complete the sentence: E B and D G are chatting with F B.\", \n",
    "     \"output\": \"Emily Brown and David Green are chatting with Fiona Black.\"},\n",
    "    {\"input\": \"[Alice Johnson, Alicia Jordan, Bob Smith, Carol White, Cathy Black] Complete the sentence: A J and B S should meet C W.\", \n",
    "     \"output\": \"Alice Johnson and Bob Smith should meet Carol White.\"},\n",
    "    {\"input\": \"[Frank Green, Franky Gray, George Blue, Harry Red, Ivy Yellow, Isaac Yellow] Complete the sentence: F G and H R are working with G B.\", \n",
    "     \"output\": \"Frank Green and Harry Red are working with George Blue.\"},\n",
    "    {\"input\": \"[Karen Taupe, Karla Tan, Leo Mint, Maria Peach, Nancy Lilac, Nick Lemon] Complete the sentence: K T and L M should review with M P and N L.\", \n",
    "     \"output\": \"Karen Taupe and Leo Mint should review with Maria Peach and Nancy Lilac.\"},\n",
    "    {\"input\": \"[Quincy Slate, Quinn Silver, Rebecca Blush, Steve Coral, Tracy Topaz, Tom Turquoise] Complete the sentence: Q S and R B are planning to visit S C.\", \n",
    "     \"output\": \"Quincy Slate and Rebecca Blush are planning to visit Steve Coral.\"},\n",
    "    {\"input\": \"[Xena Ruby, Xenia Rose, Yara Diamond, Zara Gold, Andy Silver, Aaron Smith] Complete the sentence: X R and Y D should discuss with Z G.\", \n",
    "     \"output\": \"Xena Ruby and Yara Diamond should discuss with Zara Gold.\"},\n",
    "    {\"input\": \"[Finn Lavender, Gwen Pearl, Holly Aqua, Ian Quartz, Jade Saffron, Jack Slate] Complete the sentence: F L and G P will meet with H A and I Q.\", \n",
    "     \"output\": \"Finn Lavender and Gwen Pearl will meet with Holly Aqua and Ian Quartz.\"},\n",
    "    {\"input\": \"[Nancy Violet, Oscar Emerald, Paula Ruby, Quinn Teal, Rita Pearl, Ronny Pink] Complete the sentence: N V and O E are working with P R and Q T.\", \n",
    "     \"output\": \"Nancy Violet and Oscar Emerald are working with Paula Ruby and Quinn Teal.\"},\n",
    "    {\"input\": \"[Wendy Maroon, Xander Rose, Yasmine Olive, Zack Topaz, Alex Ruby, Amanda Rose] Complete the sentence: W M and X R should join forces with Y O and Z T.\", \n",
    "     \"output\": \"Wendy Maroon and Xander Rose should join forces with Yasmine Olive and Zack Topaz.\"},\n",
    "    {\"input\": \"[George Amber, Hazel Opal, Ivy Pearl, Jack Coral, Kelly Gold, Kevin Green] Complete the sentence: G A and H O are coordinating efforts with I P and J C.\", \n",
    "     \"output\": \"George Amber and Hazel Opal are coordinating efforts with Ivy Pearl and Jack Coral.\"},\n",
    "    {\"input\": \"[Rachel Pearl, Sophia Jade, Thomas Gold, Uma Amber, Victor Silver, Vanessa Silver] Complete the sentence: R P and S J are discussing with T G and U A.\", \n",
    "     \"output\": \"Rachel Pearl and Sophia Jade are discussing with Thomas Gold and Uma Amber.\"},\n",
    "]\n"
   ]
  },
  {
   "cell_type": "markdown",
   "metadata": {},
   "source": [
    "## Tokenization"
   ]
  },
  {
   "cell_type": "code",
   "execution_count": 33,
   "metadata": {},
   "outputs": [
    {
     "name": "stderr",
     "output_type": "stream",
     "text": [
      "Special tokens have been added in the vocabulary, make sure the associated word embeddings are fine-tuned or trained.\n"
     ]
    },
    {
     "data": {
      "application/vnd.jupyter.widget-view+json": {
       "model_id": "e7c064c3ad7b4304a5308ff84d8e0a38",
       "version_major": 2,
       "version_minor": 0
      },
      "text/plain": [
       "Map:   0%|          | 0/61 [00:00<?, ? examples/s]"
      ]
     },
     "metadata": {},
     "output_type": "display_data"
    },
    {
     "data": {
      "application/vnd.jupyter.widget-view+json": {
       "model_id": "4bed8d8075f44043a7c1befe55797e79",
       "version_major": 2,
       "version_minor": 0
      },
      "text/plain": [
       "Map:   0%|          | 0/21 [00:00<?, ? examples/s]"
      ]
     },
     "metadata": {},
     "output_type": "display_data"
    }
   ],
   "source": [
    "from transformers import T5Tokenizer\n",
    "\n",
    "tokenizer = T5Tokenizer.from_pretrained('t5-base')\n",
    "\n",
    "train_dataset = Dataset.from_list(train_data)\n",
    "test_dataset = Dataset.from_list(test_data)\n",
    "\n",
    "def encoder(data):\n",
    "    inputs = data[\"input\"]\n",
    "    targets = data[\"output\"]\n",
    "    model_inputs = tokenizer(inputs, max_length=128, padding=\"longest\", truncation=True)\n",
    "    labels = tokenizer(text_target=targets, max_length=128, padding=\"longest\", truncation=True)\n",
    "    model_inputs[\"labels\"] = labels[\"input_ids\"]\n",
    "    return model_inputs\n",
    "\n",
    "# Apply the tokenization\n",
    "train_encoded = train_dataset.map(encoder, batched=True)\n",
    "test_encoded = test_dataset.map(encoder, batched=True)"
   ]
  },
  {
   "cell_type": "markdown",
   "metadata": {},
   "source": [
    "## Initialize Model"
   ]
  },
  {
   "cell_type": "code",
   "execution_count": 36,
   "metadata": {},
   "outputs": [
    {
     "name": "stderr",
     "output_type": "stream",
     "text": [
      "c:\\Users\\Voice\\anaconda3\\envs\\embed\\Lib\\site-packages\\transformers\\training_args.py:1474: FutureWarning: `evaluation_strategy` is deprecated and will be removed in version 4.46 of 🤗 Transformers. Use `eval_strategy` instead\n",
      "  warnings.warn(\n"
     ]
    },
    {
     "data": {
      "application/vnd.jupyter.widget-view+json": {
       "model_id": "a9920685f3c3433391131f719d998c56",
       "version_major": 2,
       "version_minor": 0
      },
      "text/plain": [
       "  0%|          | 0/160 [00:00<?, ?it/s]"
      ]
     },
     "metadata": {},
     "output_type": "display_data"
    },
    {
     "name": "stdout",
     "output_type": "stream",
     "text": [
      "{'loss': 9.9515, 'grad_norm': 38.4276123046875, 'learning_rate': 1.0000000000000002e-06, 'epoch': 1.25}\n"
     ]
    },
    {
     "data": {
      "application/vnd.jupyter.widget-view+json": {
       "model_id": "fa744c8c52ce450883d465166d71cfa0",
       "version_major": 2,
       "version_minor": 0
      },
      "text/plain": [
       "  0%|          | 0/3 [00:00<?, ?it/s]"
      ]
     },
     "metadata": {},
     "output_type": "display_data"
    },
    {
     "name": "stdout",
     "output_type": "stream",
     "text": [
      "{'eval_loss': 11.455410957336426, 'eval_runtime': 0.0656, 'eval_samples_per_second': 320.349, 'eval_steps_per_second': 45.764, 'epoch': 1.25}\n",
      "{'loss': 10.1476, 'grad_norm': 36.176475524902344, 'learning_rate': 2.0000000000000003e-06, 'epoch': 2.5}\n"
     ]
    },
    {
     "data": {
      "application/vnd.jupyter.widget-view+json": {
       "model_id": "4f5b492fe4c24cf9911111896e11190f",
       "version_major": 2,
       "version_minor": 0
      },
      "text/plain": [
       "  0%|          | 0/3 [00:00<?, ?it/s]"
      ]
     },
     "metadata": {},
     "output_type": "display_data"
    },
    {
     "name": "stdout",
     "output_type": "stream",
     "text": [
      "{'eval_loss': 10.713902473449707, 'eval_runtime': 0.0751, 'eval_samples_per_second': 279.754, 'eval_steps_per_second': 39.965, 'epoch': 2.5}\n",
      "{'loss': 9.2665, 'grad_norm': 29.33639907836914, 'learning_rate': 3e-06, 'epoch': 3.75}\n"
     ]
    },
    {
     "data": {
      "application/vnd.jupyter.widget-view+json": {
       "model_id": "668575f1198241908e618129e53fcc6e",
       "version_major": 2,
       "version_minor": 0
      },
      "text/plain": [
       "  0%|          | 0/3 [00:00<?, ?it/s]"
      ]
     },
     "metadata": {},
     "output_type": "display_data"
    },
    {
     "name": "stdout",
     "output_type": "stream",
     "text": [
      "{'eval_loss': 9.545248985290527, 'eval_runtime': 0.0776, 'eval_samples_per_second': 270.782, 'eval_steps_per_second': 38.683, 'epoch': 3.75}\n",
      "{'loss': 8.1031, 'grad_norm': 45.516788482666016, 'learning_rate': 4.000000000000001e-06, 'epoch': 5.0}\n"
     ]
    },
    {
     "data": {
      "application/vnd.jupyter.widget-view+json": {
       "model_id": "9994bcb344294645bb45adc5c126a522",
       "version_major": 2,
       "version_minor": 0
      },
      "text/plain": [
       "  0%|          | 0/3 [00:00<?, ?it/s]"
      ]
     },
     "metadata": {},
     "output_type": "display_data"
    },
    {
     "name": "stdout",
     "output_type": "stream",
     "text": [
      "{'eval_loss': 8.099047660827637, 'eval_runtime': 0.0735, 'eval_samples_per_second': 285.596, 'eval_steps_per_second': 40.799, 'epoch': 5.0}\n",
      "{'loss': 7.1098, 'grad_norm': 28.750022888183594, 'learning_rate': 5e-06, 'epoch': 6.25}\n"
     ]
    },
    {
     "data": {
      "application/vnd.jupyter.widget-view+json": {
       "model_id": "96ca399dbeb04cc5b739e9708f207a69",
       "version_major": 2,
       "version_minor": 0
      },
      "text/plain": [
       "  0%|          | 0/3 [00:00<?, ?it/s]"
      ]
     },
     "metadata": {},
     "output_type": "display_data"
    },
    {
     "name": "stdout",
     "output_type": "stream",
     "text": [
      "{'eval_loss': 6.570993900299072, 'eval_runtime': 0.0776, 'eval_samples_per_second': 270.752, 'eval_steps_per_second': 38.679, 'epoch': 6.25}\n",
      "{'loss': 6.4233, 'grad_norm': 19.467884063720703, 'learning_rate': 6e-06, 'epoch': 7.5}\n"
     ]
    },
    {
     "data": {
      "application/vnd.jupyter.widget-view+json": {
       "model_id": "f7aff6a29a22491d90ca1990779f6aa2",
       "version_major": 2,
       "version_minor": 0
      },
      "text/plain": [
       "  0%|          | 0/3 [00:00<?, ?it/s]"
      ]
     },
     "metadata": {},
     "output_type": "display_data"
    },
    {
     "name": "stdout",
     "output_type": "stream",
     "text": [
      "{'eval_loss': 5.232056140899658, 'eval_runtime': 0.0806, 'eval_samples_per_second': 260.641, 'eval_steps_per_second': 37.234, 'epoch': 7.5}\n",
      "{'loss': 5.225, 'grad_norm': 27.37156105041504, 'learning_rate': 7.000000000000001e-06, 'epoch': 8.75}\n"
     ]
    },
    {
     "data": {
      "application/vnd.jupyter.widget-view+json": {
       "model_id": "c49a65a7d21a4c2da3bf8907635ef033",
       "version_major": 2,
       "version_minor": 0
      },
      "text/plain": [
       "  0%|          | 0/3 [00:00<?, ?it/s]"
      ]
     },
     "metadata": {},
     "output_type": "display_data"
    },
    {
     "name": "stdout",
     "output_type": "stream",
     "text": [
      "{'eval_loss': 4.007415771484375, 'eval_runtime': 0.0751, 'eval_samples_per_second': 279.619, 'eval_steps_per_second': 39.946, 'epoch': 8.75}\n",
      "{'loss': 4.3831, 'grad_norm': 20.046222686767578, 'learning_rate': 8.000000000000001e-06, 'epoch': 10.0}\n"
     ]
    },
    {
     "data": {
      "application/vnd.jupyter.widget-view+json": {
       "model_id": "3019f3f90296435a8f55f19236884209",
       "version_major": 2,
       "version_minor": 0
      },
      "text/plain": [
       "  0%|          | 0/3 [00:00<?, ?it/s]"
      ]
     },
     "metadata": {},
     "output_type": "display_data"
    },
    {
     "name": "stdout",
     "output_type": "stream",
     "text": [
      "{'eval_loss': 2.7917592525482178, 'eval_runtime': 0.0712, 'eval_samples_per_second': 295.037, 'eval_steps_per_second': 42.148, 'epoch': 10.0}\n",
      "{'loss': 3.1395, 'grad_norm': 19.095552444458008, 'learning_rate': 9e-06, 'epoch': 11.25}\n"
     ]
    },
    {
     "data": {
      "application/vnd.jupyter.widget-view+json": {
       "model_id": "6ea96e2d9abc4a44a49497549ea9f488",
       "version_major": 2,
       "version_minor": 0
      },
      "text/plain": [
       "  0%|          | 0/3 [00:00<?, ?it/s]"
      ]
     },
     "metadata": {},
     "output_type": "display_data"
    },
    {
     "name": "stdout",
     "output_type": "stream",
     "text": [
      "{'eval_loss': 1.6494861841201782, 'eval_runtime': 0.0746, 'eval_samples_per_second': 281.496, 'eval_steps_per_second': 40.214, 'epoch': 11.25}\n",
      "{'loss': 2.1158, 'grad_norm': 13.291312217712402, 'learning_rate': 1e-05, 'epoch': 12.5}\n"
     ]
    },
    {
     "data": {
      "application/vnd.jupyter.widget-view+json": {
       "model_id": "6b9084a835874ddcbe7ed8665bc99aa9",
       "version_major": 2,
       "version_minor": 0
      },
      "text/plain": [
       "  0%|          | 0/3 [00:00<?, ?it/s]"
      ]
     },
     "metadata": {},
     "output_type": "display_data"
    },
    {
     "name": "stdout",
     "output_type": "stream",
     "text": [
      "{'eval_loss': 0.7964922785758972, 'eval_runtime': 0.0781, 'eval_samples_per_second': 268.742, 'eval_steps_per_second': 38.392, 'epoch': 12.5}\n",
      "{'loss': 1.5108, 'grad_norm': 10.80920124053955, 'learning_rate': 1.1000000000000001e-05, 'epoch': 13.75}\n"
     ]
    },
    {
     "data": {
      "application/vnd.jupyter.widget-view+json": {
       "model_id": "54a9e5b1f3374c39b7bb805b8bf5db61",
       "version_major": 2,
       "version_minor": 0
      },
      "text/plain": [
       "  0%|          | 0/3 [00:00<?, ?it/s]"
      ]
     },
     "metadata": {},
     "output_type": "display_data"
    },
    {
     "name": "stdout",
     "output_type": "stream",
     "text": [
      "{'eval_loss': 0.555770993232727, 'eval_runtime': 0.0747, 'eval_samples_per_second': 281.086, 'eval_steps_per_second': 40.155, 'epoch': 13.75}\n",
      "{'loss': 0.9591, 'grad_norm': 5.291926860809326, 'learning_rate': 1.2e-05, 'epoch': 15.0}\n"
     ]
    },
    {
     "data": {
      "application/vnd.jupyter.widget-view+json": {
       "model_id": "3f830a97d8a94ecf81622328b8a31454",
       "version_major": 2,
       "version_minor": 0
      },
      "text/plain": [
       "  0%|          | 0/3 [00:00<?, ?it/s]"
      ]
     },
     "metadata": {},
     "output_type": "display_data"
    },
    {
     "name": "stdout",
     "output_type": "stream",
     "text": [
      "{'eval_loss': 0.41425827145576477, 'eval_runtime': 0.0762, 'eval_samples_per_second': 275.446, 'eval_steps_per_second': 39.349, 'epoch': 15.0}\n",
      "{'loss': 0.7159, 'grad_norm': 4.905250549316406, 'learning_rate': 1.3000000000000001e-05, 'epoch': 16.25}\n"
     ]
    },
    {
     "data": {
      "application/vnd.jupyter.widget-view+json": {
       "model_id": "3f45223ed78e4c689245e09e898d6be3",
       "version_major": 2,
       "version_minor": 0
      },
      "text/plain": [
       "  0%|          | 0/3 [00:00<?, ?it/s]"
      ]
     },
     "metadata": {},
     "output_type": "display_data"
    },
    {
     "name": "stdout",
     "output_type": "stream",
     "text": [
      "{'eval_loss': 0.22103539109230042, 'eval_runtime': 0.0761, 'eval_samples_per_second': 276.08, 'eval_steps_per_second': 39.44, 'epoch': 16.25}\n",
      "{'loss': 0.5784, 'grad_norm': 3.130943775177002, 'learning_rate': 1.4000000000000001e-05, 'epoch': 17.5}\n"
     ]
    },
    {
     "data": {
      "application/vnd.jupyter.widget-view+json": {
       "model_id": "cb8889c761144754b7cd0ee132516438",
       "version_major": 2,
       "version_minor": 0
      },
      "text/plain": [
       "  0%|          | 0/3 [00:00<?, ?it/s]"
      ]
     },
     "metadata": {},
     "output_type": "display_data"
    },
    {
     "name": "stdout",
     "output_type": "stream",
     "text": [
      "{'eval_loss': 0.13681848347187042, 'eval_runtime': 0.0716, 'eval_samples_per_second': 293.356, 'eval_steps_per_second': 41.908, 'epoch': 17.5}\n",
      "{'loss': 0.4299, 'grad_norm': 3.689621925354004, 'learning_rate': 1.5e-05, 'epoch': 18.75}\n"
     ]
    },
    {
     "data": {
      "application/vnd.jupyter.widget-view+json": {
       "model_id": "0e7ce313f7f046619d4d4c8637a38641",
       "version_major": 2,
       "version_minor": 0
      },
      "text/plain": [
       "  0%|          | 0/3 [00:00<?, ?it/s]"
      ]
     },
     "metadata": {},
     "output_type": "display_data"
    },
    {
     "name": "stdout",
     "output_type": "stream",
     "text": [
      "{'eval_loss': 0.08737589418888092, 'eval_runtime': 0.0731, 'eval_samples_per_second': 287.142, 'eval_steps_per_second': 41.02, 'epoch': 18.75}\n",
      "{'loss': 0.3904, 'grad_norm': 4.852043151855469, 'learning_rate': 1.6000000000000003e-05, 'epoch': 20.0}\n"
     ]
    },
    {
     "data": {
      "application/vnd.jupyter.widget-view+json": {
       "model_id": "682a63e3db46469b86efdba2f11030bb",
       "version_major": 2,
       "version_minor": 0
      },
      "text/plain": [
       "  0%|          | 0/3 [00:00<?, ?it/s]"
      ]
     },
     "metadata": {},
     "output_type": "display_data"
    },
    {
     "name": "stdout",
     "output_type": "stream",
     "text": [
      "{'eval_loss': 0.05864345282316208, 'eval_runtime': 0.0795, 'eval_samples_per_second': 264.047, 'eval_steps_per_second': 37.721, 'epoch': 20.0}\n",
      "{'train_runtime': 26.1691, 'train_samples_per_second': 46.62, 'train_steps_per_second': 6.114, 'train_loss': 4.403097397089004, 'epoch': 20.0}\n"
     ]
    },
    {
     "data": {
      "text/plain": [
       "TrainOutput(global_step=160, training_loss=4.403097397089004, metrics={'train_runtime': 26.1691, 'train_samples_per_second': 46.62, 'train_steps_per_second': 6.114, 'total_flos': 69649558732800.0, 'train_loss': 4.403097397089004, 'epoch': 20.0})"
      ]
     },
     "execution_count": 36,
     "metadata": {},
     "output_type": "execute_result"
    }
   ],
   "source": [
    "from transformers import T5ForConditionalGeneration, Trainer, TrainingArguments\n",
    "\n",
    "# Initialize the model\n",
    "model = T5ForConditionalGeneration.from_pretrained('t5-base')\n",
    "\n",
    "# Define the training arguments\n",
    "training_args = TrainingArguments(\n",
    "    output_dir=\"./results\",\n",
    "    num_train_epochs=20,\n",
    "    per_device_train_batch_size=8,\n",
    "    per_device_eval_batch_size=8,\n",
    "    warmup_steps=500,\n",
    "    weight_decay=0.01,\n",
    "    logging_dir=\"./logs\",\n",
    "    logging_steps=10,\n",
    "    eval_strategy=\"steps\",  # Added for periodic evaluation\n",
    "    save_total_limit=1, \n",
    "    save_steps=100,\n",
    ")\n",
    "\n",
    "# Initialize the Trainer\n",
    "trainer = Trainer(\n",
    "    model=model,\n",
    "    args=training_args,\n",
    "    train_dataset=train_encoded,\n",
    "    eval_dataset=test_encoded,\n",
    ")\n",
    "\n",
    "# Train the model\n",
    "trainer.train()"
   ]
  },
  {
   "cell_type": "markdown",
   "metadata": {},
   "source": [
    "## Evaluate"
   ]
  },
  {
   "cell_type": "code",
   "execution_count": 72,
   "metadata": {},
   "outputs": [],
   "source": [
    "# Inference \n",
    "def complete_sentence(input_text):\n",
    "    inputs = tokenizer(input_text, return_tensors=\"pt\").input_ids.to(device)\n",
    "    outputs = model.generate(inputs, max_new_tokens=60)\n",
    "    return tokenizer.decode(outputs[0], skip_special_tokens=True)\n",
    "\n",
    "# Encode\n",
    "def get_embedding(text):\n",
    "    tokens = tokenizer.encode(text, return_tensors=\"pt\").to(device)\n",
    "    with torch.no_grad():\n",
    "        embedding = model.encoder(input_ids=tokens).last_hidden_state.mean(dim=1).cpu().numpy().flatten()\n",
    "    return embedding"
   ]
  },
  {
   "cell_type": "code",
   "execution_count": 78,
   "metadata": {},
   "outputs": [],
   "source": [
    "import numpy as np\n",
    "from sklearn.metrics.pairwise import cosine_similarity\n",
    "\n",
    "# cosine similarity between input embedding and name embeddings\n",
    "def compare(input_embedding, name_embeddings, names):\n",
    "    similarities = cosine_similarity([input_embedding], name_embeddings)[0]\n",
    "\n",
    "    # Sort the names by similarity scores\n",
    "    sorted_indices = np.argsort(similarities)[::-1]\n",
    "    sorted_names = [names[i] for i in sorted_indices]\n",
    "    sorted_similarities = [similarities[i] for i in sorted_indices]\n",
    "    print(\"Cosine Similarity Scores:\")\n",
    "    for name, similarity in zip(sorted_names, sorted_similarities):\n",
    "        print(f\"{name}: {similarity:.4f}\")"
   ]
  },
  {
   "cell_type": "code",
   "execution_count": 80,
   "metadata": {},
   "outputs": [
    {
     "name": "stdout",
     "output_type": "stream",
     "text": [
      "Input: [Emily Brown, Elsa Betty, David Grass, David Green, Finny Blade, Fiona Black] Complete the sentence: Em B and David G are chatting with Fi Blac.\n",
      "Output: Emily Brown and David Green are chatting with Fiona Black.\n",
      "\n",
      "Cosine Similarity Scores:\n",
      "Elsa Betty: 0.5508\n",
      "David Grass: 0.5338\n",
      "Fiona Black: 0.5298\n",
      "Finny Blade: 0.4101\n",
      "David Green: 0.2918\n",
      "Emily Brown: 0.2574\n"
     ]
    }
   ],
   "source": [
    "names = [\"Emily Brown\", \"Elsa Betty\", \"David Grass\", \"David Green\", \"Finny Blade\", \"Fiona Black\"]\n",
    "input_text = \"[Emily Brown, Elsa Betty, David Grass, David Green, Finny Blade, Fiona Black] Complete the sentence: Em B and David G are chatting with Fi Blac.\"\n",
    "\n",
    "input_embedding = get_embedding(input_text)\n",
    "name_embeddings = [get_embedding(name) for name in names]\n",
    "\n",
    "print(\"Input: \" +input_text)\n",
    "print(\"Output: \"+complete_sentence(input_text)+\"\\n\")\n",
    "compare(input_embedding, name_embeddings, names)"
   ]
  }
 ],
 "metadata": {
  "kernelspec": {
   "display_name": "Python 3",
   "language": "python",
   "name": "python3"
  },
  "language_info": {
   "codemirror_mode": {
    "name": "ipython",
    "version": 3
   },
   "file_extension": ".py",
   "mimetype": "text/x-python",
   "name": "python",
   "nbconvert_exporter": "python",
   "pygments_lexer": "ipython3",
   "version": "3.12.3"
  }
 },
 "nbformat": 4,
 "nbformat_minor": 4
}
